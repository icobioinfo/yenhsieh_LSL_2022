{
 "cells": [
  {
   "cell_type": "markdown",
   "id": "3bb1ba10-c996-4f62-ae24-8718ee9be17e",
   "metadata": {},
   "source": [
    "# Outline\n",
    "[1. Cancer omic resources](#1.-Cancer-omic-resources)\n",
    "   - [1.1. Xena overview & searching](#1.1.-Xena-overview-&-searching)\n",
    "       * [1.1.1. overview](#1.1.1.-overview)\n",
    "       * [1.1.2. searching](#1.1.2.-searching)\n",
    "   - [1.2. access Xena via *UCSCXenaTools* package](#1.2.-access-Xena-via-UCSCXenaTools-package)\n",
    "       * [1.2.1. step 1: generate](#1.2.1.-step-1:-generate)\n",
    "       * [1.2.2. step2~4: query, download, prepare](#1.2.2.-step2~4:-query,-download,-prepare)\n",
    "   - [1.3 direct download from Xena](#1.3-direct-download-from-Xena)"
   ]
  },
  {
   "cell_type": "code",
   "execution_count": 1,
   "id": "cea636d0-34b0-4799-a9cf-b381cb73efe2",
   "metadata": {},
   "outputs": [
    {
     "name": "stderr",
     "output_type": "stream",
     "text": [
      "Warning message:\n",
      "“package ‘repr’ was built under R version 4.0.3”\n"
     ]
    }
   ],
   "source": [
    "# Global setting for jupyter lab, NOT RUN\n",
    "suppressMessages(library(repr))\n",
    "options(repr.plot.width=12, repr.plot.height=10)"
   ]
  },
  {
   "cell_type": "markdown",
   "id": "dd71bf54-4fe6-4201-961c-fe490f422c05",
   "metadata": {},
   "source": [
    "# 1. Cancer omic resources\n",
    "Various databases and web tools are providing public cancer data and some of them are also visualizing summary plots and advanced survival analysis upon user query. And among numerous cancer data contributors, the Cancer Genome Atlas (TCGA) is one of widely recognized by researcher and also archived by databases including [Genomic Data Commons (GDC)](https://portal.gdc.cancer.gov/), [cBioPortal](https://www.cbioportal.org/), [Broad GDAC Firehose](https://gdac.broadinstitute.org/), [UCSC Xena](http://xena.ucsc.edu/). Furthermore, apart from direct download, these sources and numerous R packages ([RTCGAToolbox](https://bioconductor.org/packages/release/bioc/html/RTCGAToolbox.html), [TCGAbiolinks](https://bioconductor.org/packages/release/bioc/html/TCGAbiolinks.html), [cBioPortalData](https://docs.cbioportal.org/6.-web-api-and-clients/api-and-api-clients#r-client), etc.) are providing access for cancer data. With this section, we will use *UCSC Xena* for followed demonstration.\n",
    "> Xena is a genomic data accessing-hub hosted by UCSC providing the collection of other public databases (TCGA, Broad Institute, ICGC, GTex, CCLE, etc.). Users can access, download, analyze data like cancer or single-cell datasets directly on the website or locally on personal device for the data deployed on Xena are tier-3 public data. And *UCSCXenaTools* is the R package providing the accession inside R environment for convenient analysis workflow."
   ]
  },
  {
   "cell_type": "markdown",
   "id": "f0930c50-2e28-4965-a6a5-6d935a35ca41",
   "metadata": {},
   "source": [
    "## 1.1. Xena overview & searching"
   ]
  },
  {
   "cell_type": "markdown",
   "id": "5667f87f-dfe6-4e55-ba43-5b8f632ba490",
   "metadata": {},
   "source": [
    "### 1.1.1. overview\n",
    "[Xena datasets viewpage](https://xenabrowser.net/datapages/)"
   ]
  },
  {
   "cell_type": "code",
   "execution_count": 2,
   "id": "c6b6f3eb-d289-4318-9a78-9f4e99c09e33",
   "metadata": {},
   "outputs": [
    {
     "name": "stderr",
     "output_type": "stream",
     "text": [
      "Warning message:\n",
      "“package ‘tidyverse’ was built under R version 4.0.3”\n",
      "─ \u001b[1mAttaching packages\u001b[22m ──────────────────────────── tidyverse 1.3.1 ─\n",
      "\n",
      "\u001b[32m✔\u001b[39m \u001b[34mggplot2\u001b[39m 3.3.5     \u001b[32m✔\u001b[39m \u001b[34mpurrr  \u001b[39m 0.3.4\n",
      "\u001b[32m✔\u001b[39m \u001b[34mtibble \u001b[39m 3.1.3     \u001b[32m✔\u001b[39m \u001b[34mdplyr  \u001b[39m 1.0.7\n",
      "\u001b[32m✔\u001b[39m \u001b[34mtidyr  \u001b[39m 1.1.3     \u001b[32m✔\u001b[39m \u001b[34mstringr\u001b[39m 1.4.0\n",
      "\u001b[32m✔\u001b[39m \u001b[34mreadr  \u001b[39m 1.4.0     \u001b[32m✔\u001b[39m \u001b[34mforcats\u001b[39m 0.5.1\n",
      "\n",
      "Warning message:\n",
      "“package ‘ggplot2’ was built under R version 4.0.5”\n",
      "Warning message:\n",
      "“package ‘tibble’ was built under R version 4.0.5”\n",
      "Warning message:\n",
      "“package ‘tidyr’ was built under R version 4.0.3”\n",
      "Warning message:\n",
      "“package ‘readr’ was built under R version 4.0.5”\n",
      "Warning message:\n",
      "“package ‘purrr’ was built under R version 4.0.3”\n",
      "Warning message:\n",
      "“package ‘dplyr’ was built under R version 4.0.5”\n",
      "Warning message:\n",
      "“package ‘stringr’ was built under R version 4.0.5”\n",
      "Warning message:\n",
      "“package ‘forcats’ was built under R version 4.0.3”\n",
      "─ \u001b[1mConflicts\u001b[22m ───────────────────────────── tidyverse_conflicts() ─\n",
      "\u001b[31m✖\u001b[39m \u001b[34mdplyr\u001b[39m::\u001b[32mfilter()\u001b[39m masks \u001b[34mstats\u001b[39m::filter()\n",
      "\u001b[31m✖\u001b[39m \u001b[34mdplyr\u001b[39m::\u001b[32mlag()\u001b[39m    masks \u001b[34mstats\u001b[39m::lag()\n",
      "\n",
      "Warning message:\n",
      "“package ‘UCSCXenaTools’ was built under R version 4.0.5”\n",
      "=========================================================================================\n",
      "UCSCXenaTools version 1.4.6\n",
      "Project URL: https://github.com/ropensci/UCSCXenaTools\n",
      "Usages: https://cran.r-project.org/web/packages/UCSCXenaTools/vignettes/USCSXenaTools.html\n",
      "\n",
      "If you use it in published research, please cite:\n",
      "Wang et al., (2019). The UCSCXenaTools R package: a toolkit for accessing genomics data\n",
      "  from UCSC Xena platform, from cancer multi-omics to single-cell RNA-seq.\n",
      "  Journal of Open Source Software, 4(40), 1627, https://doi.org/10.21105/joss.01627\n",
      "=========================================================================================\n",
      "                              --Enjoy it--\n",
      "\n"
     ]
    }
   ],
   "source": [
    "library(tidyverse)\n",
    "library(UCSCXenaTools)\n",
    "data(XenaData)"
   ]
  },
  {
   "cell_type": "code",
   "execution_count": 3,
   "id": "68736480-3f7c-4777-8bff-758f57d331b2",
   "metadata": {},
   "outputs": [
    {
     "data": {
      "text/html": [
       "<table class=\"dataframe\">\n",
       "<caption>A tibble: 6 × 17</caption>\n",
       "<thead>\n",
       "\t<tr><th scope=col>XenaHosts</th><th scope=col>XenaHostNames</th><th scope=col>XenaCohorts</th><th scope=col>XenaDatasets</th><th scope=col>SampleCount</th><th scope=col>DataSubtype</th><th scope=col>Label</th><th scope=col>Type</th><th scope=col>AnatomicalOrigin</th><th scope=col>SampleType</th><th scope=col>Tags</th><th scope=col>ProbeMap</th><th scope=col>LongTitle</th><th scope=col>Citation</th><th scope=col>Version</th><th scope=col>Unit</th><th scope=col>Platform</th></tr>\n",
       "\t<tr><th scope=col>&lt;chr&gt;</th><th scope=col>&lt;chr&gt;</th><th scope=col>&lt;chr&gt;</th><th scope=col>&lt;chr&gt;</th><th scope=col>&lt;int&gt;</th><th scope=col>&lt;chr&gt;</th><th scope=col>&lt;chr&gt;</th><th scope=col>&lt;chr&gt;</th><th scope=col>&lt;chr&gt;</th><th scope=col>&lt;chr&gt;</th><th scope=col>&lt;chr&gt;</th><th scope=col>&lt;chr&gt;</th><th scope=col>&lt;chr&gt;</th><th scope=col>&lt;chr&gt;</th><th scope=col>&lt;chr&gt;</th><th scope=col>&lt;chr&gt;</th><th scope=col>&lt;chr&gt;</th></tr>\n",
       "</thead>\n",
       "<tbody>\n",
       "\t<tr><td>https://ucscpublic.xenahubs.net</td><td>publicHub</td><td>Breast Cancer Cell Lines (Neve 2006)</td><td>ucsfNeve_public/ucsfNeveExp_genomicMatrix               </td><td> 51</td><td>gene expression</td><td>Neve Cell Line gene expression</td><td>genomicMatrix </td><td>Breast</td><td>cell line</td><td>cell lines,breast cancer</td><td>probeMap/affyU133_ucscGenomeBrowser_hg18.probeMap</td><td>Cell Line Gene Expression (Neve et al. Cancer Cell 2006)</td><td>Cancer Cell. 2006 Dec;10(6):515-27.                 </td><td>2011-11-01</td><td>NA</td><td>NA</td></tr>\n",
       "\t<tr><td>https://ucscpublic.xenahubs.net</td><td>publicHub</td><td>Breast Cancer Cell Lines (Neve 2006)</td><td>ucsfNeve_public/ucsfNeve_public_clinicalMatrix          </td><td> 57</td><td>phenotype      </td><td>Phenotypes                    </td><td>clinicalMatrix</td><td>      </td><td>         </td><td>cancer                  </td><td>NA                                               </td><td>NA                                                      </td><td>NA                                                  </td><td>2011-11-11</td><td>NA</td><td>NA</td></tr>\n",
       "\t<tr><td>https://ucscpublic.xenahubs.net</td><td>publicHub</td><td>Glioma (Kotliarov 2006)             </td><td>kotliarov2006_public/kotliarov2006_genomicMatrix        </td><td>194</td><td>copy number    </td><td>Kotliarov Glioma CGH          </td><td>genomicMatrix </td><td>Brain </td><td>tumor    </td><td>cancer,neural           </td><td>probeMap/probesAffy100K                          </td><td>Glioma CGH (Kotliarov et al. 2006)                      </td><td>Cancer Res. 2006 Oct 1;66(19):9428-36.              </td><td>2011-11-01</td><td>NA</td><td>NA</td></tr>\n",
       "\t<tr><td>https://ucscpublic.xenahubs.net</td><td>publicHub</td><td>Glioma (Kotliarov 2006)             </td><td>kotliarov2006_public/kotliarov2006_public_clinicalMatrix</td><td>194</td><td>phenotype      </td><td>Phenotypes                    </td><td>clinicalMatrix</td><td>      </td><td>         </td><td>cancer                  </td><td>NA                                               </td><td>NA                                                      </td><td>NA                                                  </td><td>2011-11-11</td><td>NA</td><td>NA</td></tr>\n",
       "\t<tr><td>https://ucscpublic.xenahubs.net</td><td>publicHub</td><td>Lung Cancer CGH (Weir 2007)         </td><td>weir2007_public/weir2007_genomicMatrix                  </td><td>383</td><td>copy number    </td><td>CGH                           </td><td>genomicMatrix </td><td>Lung  </td><td>tumor    </td><td>cancer                  </td><td>probeMap/probeAffy500K                           </td><td>Lung CGH (Weir et al. 2007)                             </td><td>Nature. 2007 Dec 6;450(7171):893-8. Epub 2007 Nov 4.</td><td>2011-11-01</td><td>NA</td><td>NA</td></tr>\n",
       "\t<tr><td>https://ucscpublic.xenahubs.net</td><td>publicHub</td><td>Lung Cancer CGH (Weir 2007)         </td><td>weir2007_public/weir2007_public_clinicalMatrix          </td><td>383</td><td>phenotype      </td><td>Phenotypes                    </td><td>clinicalMatrix</td><td>      </td><td>         </td><td>cancer                  </td><td>NA                                               </td><td>NA                                                      </td><td>NA                                                  </td><td>2011-11-11</td><td>NA</td><td>NA</td></tr>\n",
       "</tbody>\n",
       "</table>\n"
      ],
      "text/latex": [
       "A tibble: 6 × 17\n",
       "\\begin{tabular}{lllllllllllllllll}\n",
       " XenaHosts & XenaHostNames & XenaCohorts & XenaDatasets & SampleCount & DataSubtype & Label & Type & AnatomicalOrigin & SampleType & Tags & ProbeMap & LongTitle & Citation & Version & Unit & Platform\\\\\n",
       " <chr> & <chr> & <chr> & <chr> & <int> & <chr> & <chr> & <chr> & <chr> & <chr> & <chr> & <chr> & <chr> & <chr> & <chr> & <chr> & <chr>\\\\\n",
       "\\hline\n",
       "\t https://ucscpublic.xenahubs.net & publicHub & Breast Cancer Cell Lines (Neve 2006) & ucsfNeve\\_public/ucsfNeveExp\\_genomicMatrix                &  51 & gene expression & Neve Cell Line gene expression & genomicMatrix  & Breast & cell line & cell lines,breast cancer & probeMap/affyU133\\_ucscGenomeBrowser\\_hg18.probeMap & Cell Line Gene Expression (Neve et al. Cancer Cell 2006) & Cancer Cell. 2006 Dec;10(6):515-27.                  & 2011-11-01 & NA & NA\\\\\n",
       "\t https://ucscpublic.xenahubs.net & publicHub & Breast Cancer Cell Lines (Neve 2006) & ucsfNeve\\_public/ucsfNeve\\_public\\_clinicalMatrix           &  57 & phenotype       & Phenotypes                     & clinicalMatrix &        &           & cancer                   & NA                                                & NA                                                       & NA                                                   & 2011-11-11 & NA & NA\\\\\n",
       "\t https://ucscpublic.xenahubs.net & publicHub & Glioma (Kotliarov 2006)              & kotliarov2006\\_public/kotliarov2006\\_genomicMatrix         & 194 & copy number     & Kotliarov Glioma CGH           & genomicMatrix  & Brain  & tumor     & cancer,neural            & probeMap/probesAffy100K                           & Glioma CGH (Kotliarov et al. 2006)                       & Cancer Res. 2006 Oct 1;66(19):9428-36.               & 2011-11-01 & NA & NA\\\\\n",
       "\t https://ucscpublic.xenahubs.net & publicHub & Glioma (Kotliarov 2006)              & kotliarov2006\\_public/kotliarov2006\\_public\\_clinicalMatrix & 194 & phenotype       & Phenotypes                     & clinicalMatrix &        &           & cancer                   & NA                                                & NA                                                       & NA                                                   & 2011-11-11 & NA & NA\\\\\n",
       "\t https://ucscpublic.xenahubs.net & publicHub & Lung Cancer CGH (Weir 2007)          & weir2007\\_public/weir2007\\_genomicMatrix                   & 383 & copy number     & CGH                            & genomicMatrix  & Lung   & tumor     & cancer                   & probeMap/probeAffy500K                            & Lung CGH (Weir et al. 2007)                              & Nature. 2007 Dec 6;450(7171):893-8. Epub 2007 Nov 4. & 2011-11-01 & NA & NA\\\\\n",
       "\t https://ucscpublic.xenahubs.net & publicHub & Lung Cancer CGH (Weir 2007)          & weir2007\\_public/weir2007\\_public\\_clinicalMatrix           & 383 & phenotype       & Phenotypes                     & clinicalMatrix &        &           & cancer                   & NA                                                & NA                                                       & NA                                                   & 2011-11-11 & NA & NA\\\\\n",
       "\\end{tabular}\n"
      ],
      "text/markdown": [
       "\n",
       "A tibble: 6 × 17\n",
       "\n",
       "| XenaHosts &lt;chr&gt; | XenaHostNames &lt;chr&gt; | XenaCohorts &lt;chr&gt; | XenaDatasets &lt;chr&gt; | SampleCount &lt;int&gt; | DataSubtype &lt;chr&gt; | Label &lt;chr&gt; | Type &lt;chr&gt; | AnatomicalOrigin &lt;chr&gt; | SampleType &lt;chr&gt; | Tags &lt;chr&gt; | ProbeMap &lt;chr&gt; | LongTitle &lt;chr&gt; | Citation &lt;chr&gt; | Version &lt;chr&gt; | Unit &lt;chr&gt; | Platform &lt;chr&gt; |\n",
       "|---|---|---|---|---|---|---|---|---|---|---|---|---|---|---|---|---|\n",
       "| https://ucscpublic.xenahubs.net | publicHub | Breast Cancer Cell Lines (Neve 2006) | ucsfNeve_public/ucsfNeveExp_genomicMatrix                |  51 | gene expression | Neve Cell Line gene expression | genomicMatrix  | Breast | cell line | cell lines,breast cancer | probeMap/affyU133_ucscGenomeBrowser_hg18.probeMap | Cell Line Gene Expression (Neve et al. Cancer Cell 2006) | Cancer Cell. 2006 Dec;10(6):515-27.                  | 2011-11-01 | NA | NA |\n",
       "| https://ucscpublic.xenahubs.net | publicHub | Breast Cancer Cell Lines (Neve 2006) | ucsfNeve_public/ucsfNeve_public_clinicalMatrix           |  57 | phenotype       | Phenotypes                     | clinicalMatrix | <!----> | <!----> | cancer                   | NA                                                | NA                                                       | NA                                                   | 2011-11-11 | NA | NA |\n",
       "| https://ucscpublic.xenahubs.net | publicHub | Glioma (Kotliarov 2006)              | kotliarov2006_public/kotliarov2006_genomicMatrix         | 194 | copy number     | Kotliarov Glioma CGH           | genomicMatrix  | Brain  | tumor     | cancer,neural            | probeMap/probesAffy100K                           | Glioma CGH (Kotliarov et al. 2006)                       | Cancer Res. 2006 Oct 1;66(19):9428-36.               | 2011-11-01 | NA | NA |\n",
       "| https://ucscpublic.xenahubs.net | publicHub | Glioma (Kotliarov 2006)              | kotliarov2006_public/kotliarov2006_public_clinicalMatrix | 194 | phenotype       | Phenotypes                     | clinicalMatrix | <!----> | <!----> | cancer                   | NA                                                | NA                                                       | NA                                                   | 2011-11-11 | NA | NA |\n",
       "| https://ucscpublic.xenahubs.net | publicHub | Lung Cancer CGH (Weir 2007)          | weir2007_public/weir2007_genomicMatrix                   | 383 | copy number     | CGH                            | genomicMatrix  | Lung   | tumor     | cancer                   | probeMap/probeAffy500K                            | Lung CGH (Weir et al. 2007)                              | Nature. 2007 Dec 6;450(7171):893-8. Epub 2007 Nov 4. | 2011-11-01 | NA | NA |\n",
       "| https://ucscpublic.xenahubs.net | publicHub | Lung Cancer CGH (Weir 2007)          | weir2007_public/weir2007_public_clinicalMatrix           | 383 | phenotype       | Phenotypes                     | clinicalMatrix | <!----> | <!----> | cancer                   | NA                                                | NA                                                       | NA                                                   | 2011-11-11 | NA | NA |\n",
       "\n"
      ],
      "text/plain": [
       "  XenaHosts                       XenaHostNames\n",
       "1 https://ucscpublic.xenahubs.net publicHub    \n",
       "2 https://ucscpublic.xenahubs.net publicHub    \n",
       "3 https://ucscpublic.xenahubs.net publicHub    \n",
       "4 https://ucscpublic.xenahubs.net publicHub    \n",
       "5 https://ucscpublic.xenahubs.net publicHub    \n",
       "6 https://ucscpublic.xenahubs.net publicHub    \n",
       "  XenaCohorts                         \n",
       "1 Breast Cancer Cell Lines (Neve 2006)\n",
       "2 Breast Cancer Cell Lines (Neve 2006)\n",
       "3 Glioma (Kotliarov 2006)             \n",
       "4 Glioma (Kotliarov 2006)             \n",
       "5 Lung Cancer CGH (Weir 2007)         \n",
       "6 Lung Cancer CGH (Weir 2007)         \n",
       "  XenaDatasets                                             SampleCount\n",
       "1 ucsfNeve_public/ucsfNeveExp_genomicMatrix                 51        \n",
       "2 ucsfNeve_public/ucsfNeve_public_clinicalMatrix            57        \n",
       "3 kotliarov2006_public/kotliarov2006_genomicMatrix         194        \n",
       "4 kotliarov2006_public/kotliarov2006_public_clinicalMatrix 194        \n",
       "5 weir2007_public/weir2007_genomicMatrix                   383        \n",
       "6 weir2007_public/weir2007_public_clinicalMatrix           383        \n",
       "  DataSubtype     Label                          Type          \n",
       "1 gene expression Neve Cell Line gene expression genomicMatrix \n",
       "2 phenotype       Phenotypes                     clinicalMatrix\n",
       "3 copy number     Kotliarov Glioma CGH           genomicMatrix \n",
       "4 phenotype       Phenotypes                     clinicalMatrix\n",
       "5 copy number     CGH                            genomicMatrix \n",
       "6 phenotype       Phenotypes                     clinicalMatrix\n",
       "  AnatomicalOrigin SampleType Tags                    \n",
       "1 Breast           cell line  cell lines,breast cancer\n",
       "2                             cancer                  \n",
       "3 Brain            tumor      cancer,neural           \n",
       "4                             cancer                  \n",
       "5 Lung             tumor      cancer                  \n",
       "6                             cancer                  \n",
       "  ProbeMap                                         \n",
       "1 probeMap/affyU133_ucscGenomeBrowser_hg18.probeMap\n",
       "2 NA                                               \n",
       "3 probeMap/probesAffy100K                          \n",
       "4 NA                                               \n",
       "5 probeMap/probeAffy500K                           \n",
       "6 NA                                               \n",
       "  LongTitle                                               \n",
       "1 Cell Line Gene Expression (Neve et al. Cancer Cell 2006)\n",
       "2 NA                                                      \n",
       "3 Glioma CGH (Kotliarov et al. 2006)                      \n",
       "4 NA                                                      \n",
       "5 Lung CGH (Weir et al. 2007)                             \n",
       "6 NA                                                      \n",
       "  Citation                                             Version    Unit Platform\n",
       "1 Cancer Cell. 2006 Dec;10(6):515-27.                  2011-11-01 NA   NA      \n",
       "2 NA                                                   2011-11-11 NA   NA      \n",
       "3 Cancer Res. 2006 Oct 1;66(19):9428-36.               2011-11-01 NA   NA      \n",
       "4 NA                                                   2011-11-11 NA   NA      \n",
       "5 Nature. 2007 Dec 6;450(7171):893-8. Epub 2007 Nov 4. 2011-11-01 NA   NA      \n",
       "6 NA                                                   2011-11-11 NA   NA      "
      ]
     },
     "metadata": {},
     "output_type": "display_data"
    }
   ],
   "source": [
    "head(XenaData)"
   ]
  },
  {
   "cell_type": "markdown",
   "id": "132ab64c-586c-455a-ae30-1210f64ac5c0",
   "metadata": {},
   "source": [
    "### 1.1.2. searching"
   ]
  },
  {
   "cell_type": "markdown",
   "id": "cdedfd43-9bbd-4680-97f5-fb9ee4e099c0",
   "metadata": {},
   "source": [
    "#### *OR*"
   ]
  },
  {
   "cell_type": "code",
   "execution_count": 4,
   "id": "98a0eaa8-656a-459a-86e5-4a5cc4531b5d",
   "metadata": {},
   "outputs": [
    {
     "data": {
      "text/html": [
       "<table class=\"dataframe\">\n",
       "<caption>A tibble: 3 × 17</caption>\n",
       "<thead>\n",
       "\t<tr><th scope=col>XenaHosts</th><th scope=col>XenaHostNames</th><th scope=col>XenaCohorts</th><th scope=col>XenaDatasets</th><th scope=col>SampleCount</th><th scope=col>DataSubtype</th><th scope=col>Label</th><th scope=col>Type</th><th scope=col>AnatomicalOrigin</th><th scope=col>SampleType</th><th scope=col>Tags</th><th scope=col>ProbeMap</th><th scope=col>LongTitle</th><th scope=col>Citation</th><th scope=col>Version</th><th scope=col>Unit</th><th scope=col>Platform</th></tr>\n",
       "\t<tr><th scope=col>&lt;chr&gt;</th><th scope=col>&lt;chr&gt;</th><th scope=col>&lt;chr&gt;</th><th scope=col>&lt;chr&gt;</th><th scope=col>&lt;int&gt;</th><th scope=col>&lt;chr&gt;</th><th scope=col>&lt;chr&gt;</th><th scope=col>&lt;chr&gt;</th><th scope=col>&lt;chr&gt;</th><th scope=col>&lt;chr&gt;</th><th scope=col>&lt;chr&gt;</th><th scope=col>&lt;chr&gt;</th><th scope=col>&lt;chr&gt;</th><th scope=col>&lt;chr&gt;</th><th scope=col>&lt;chr&gt;</th><th scope=col>&lt;chr&gt;</th><th scope=col>&lt;chr&gt;</th></tr>\n",
       "</thead>\n",
       "<tbody>\n",
       "\t<tr><td>https://ucscpublic.xenahubs.net</td><td>publicHub</td><td>Breast Cancer Cell Lines (Neve 2006)</td><td>ucsfNeve_public/ucsfNeveExp_genomicMatrix</td><td> 51</td><td>gene expression</td><td>Neve Cell Line gene expression</td><td>genomicMatrix</td><td>Breast</td><td>cell line</td><td>cell lines,breast cancer</td><td>probeMap/affyU133_ucscGenomeBrowser_hg18.probeMap</td><td>Cell Line Gene Expression (Neve et al. Cancer Cell 2006)</td><td>Cancer Cell. 2006 Dec;10(6):515-27. </td><td>2011-11-01</td><td>NA</td><td>NA</td></tr>\n",
       "\t<tr><td>https://ucscpublic.xenahubs.net</td><td>publicHub</td><td>Breast Cancer (Chin 2006)           </td><td>chin2006_public/chin2006Exp_genomicMatrix</td><td>118</td><td>gene expression</td><td>Gene expression               </td><td>genomicMatrix</td><td>Breast</td><td>tumor    </td><td>cancer                  </td><td>probeMap/affyU133_ucscGenomeBrowser_hg18.probeMap</td><td>Gene Expression (Chin et al. Cancer Cell 2006)          </td><td>Cancer Cell. 2006 Dec;10(6):529-41. </td><td>2011-11-01</td><td>NA</td><td>NA</td></tr>\n",
       "\t<tr><td>https://ucscpublic.xenahubs.net</td><td>publicHub</td><td>Melanoma (Lin 2008)                 </td><td>lin2008_public/lin2008Exp_genomicMatrix  </td><td> 95</td><td>gene expression</td><td>Lin Gene Exp                  </td><td>genomicMatrix</td><td>Skin  </td><td>tumor    </td><td>cancer                  </td><td>probeMap/affyU133_ucscGenomeBrowser_hg18.probeMap</td><td>Melanoma Gene Expression (Lin et al. 2008)              </td><td>Cancer Res. 2008 Feb 1;68(3):664-73.</td><td>2011-11-01</td><td>NA</td><td>NA</td></tr>\n",
       "</tbody>\n",
       "</table>\n"
      ],
      "text/latex": [
       "A tibble: 3 × 17\n",
       "\\begin{tabular}{lllllllllllllllll}\n",
       " XenaHosts & XenaHostNames & XenaCohorts & XenaDatasets & SampleCount & DataSubtype & Label & Type & AnatomicalOrigin & SampleType & Tags & ProbeMap & LongTitle & Citation & Version & Unit & Platform\\\\\n",
       " <chr> & <chr> & <chr> & <chr> & <int> & <chr> & <chr> & <chr> & <chr> & <chr> & <chr> & <chr> & <chr> & <chr> & <chr> & <chr> & <chr>\\\\\n",
       "\\hline\n",
       "\t https://ucscpublic.xenahubs.net & publicHub & Breast Cancer Cell Lines (Neve 2006) & ucsfNeve\\_public/ucsfNeveExp\\_genomicMatrix &  51 & gene expression & Neve Cell Line gene expression & genomicMatrix & Breast & cell line & cell lines,breast cancer & probeMap/affyU133\\_ucscGenomeBrowser\\_hg18.probeMap & Cell Line Gene Expression (Neve et al. Cancer Cell 2006) & Cancer Cell. 2006 Dec;10(6):515-27.  & 2011-11-01 & NA & NA\\\\\n",
       "\t https://ucscpublic.xenahubs.net & publicHub & Breast Cancer (Chin 2006)            & chin2006\\_public/chin2006Exp\\_genomicMatrix & 118 & gene expression & Gene expression                & genomicMatrix & Breast & tumor     & cancer                   & probeMap/affyU133\\_ucscGenomeBrowser\\_hg18.probeMap & Gene Expression (Chin et al. Cancer Cell 2006)           & Cancer Cell. 2006 Dec;10(6):529-41.  & 2011-11-01 & NA & NA\\\\\n",
       "\t https://ucscpublic.xenahubs.net & publicHub & Melanoma (Lin 2008)                  & lin2008\\_public/lin2008Exp\\_genomicMatrix   &  95 & gene expression & Lin Gene Exp                   & genomicMatrix & Skin   & tumor     & cancer                   & probeMap/affyU133\\_ucscGenomeBrowser\\_hg18.probeMap & Melanoma Gene Expression (Lin et al. 2008)               & Cancer Res. 2008 Feb 1;68(3):664-73. & 2011-11-01 & NA & NA\\\\\n",
       "\\end{tabular}\n"
      ],
      "text/markdown": [
       "\n",
       "A tibble: 3 × 17\n",
       "\n",
       "| XenaHosts &lt;chr&gt; | XenaHostNames &lt;chr&gt; | XenaCohorts &lt;chr&gt; | XenaDatasets &lt;chr&gt; | SampleCount &lt;int&gt; | DataSubtype &lt;chr&gt; | Label &lt;chr&gt; | Type &lt;chr&gt; | AnatomicalOrigin &lt;chr&gt; | SampleType &lt;chr&gt; | Tags &lt;chr&gt; | ProbeMap &lt;chr&gt; | LongTitle &lt;chr&gt; | Citation &lt;chr&gt; | Version &lt;chr&gt; | Unit &lt;chr&gt; | Platform &lt;chr&gt; |\n",
       "|---|---|---|---|---|---|---|---|---|---|---|---|---|---|---|---|---|\n",
       "| https://ucscpublic.xenahubs.net | publicHub | Breast Cancer Cell Lines (Neve 2006) | ucsfNeve_public/ucsfNeveExp_genomicMatrix |  51 | gene expression | Neve Cell Line gene expression | genomicMatrix | Breast | cell line | cell lines,breast cancer | probeMap/affyU133_ucscGenomeBrowser_hg18.probeMap | Cell Line Gene Expression (Neve et al. Cancer Cell 2006) | Cancer Cell. 2006 Dec;10(6):515-27.  | 2011-11-01 | NA | NA |\n",
       "| https://ucscpublic.xenahubs.net | publicHub | Breast Cancer (Chin 2006)            | chin2006_public/chin2006Exp_genomicMatrix | 118 | gene expression | Gene expression                | genomicMatrix | Breast | tumor     | cancer                   | probeMap/affyU133_ucscGenomeBrowser_hg18.probeMap | Gene Expression (Chin et al. Cancer Cell 2006)           | Cancer Cell. 2006 Dec;10(6):529-41.  | 2011-11-01 | NA | NA |\n",
       "| https://ucscpublic.xenahubs.net | publicHub | Melanoma (Lin 2008)                  | lin2008_public/lin2008Exp_genomicMatrix   |  95 | gene expression | Lin Gene Exp                   | genomicMatrix | Skin   | tumor     | cancer                   | probeMap/affyU133_ucscGenomeBrowser_hg18.probeMap | Melanoma Gene Expression (Lin et al. 2008)               | Cancer Res. 2008 Feb 1;68(3):664-73. | 2011-11-01 | NA | NA |\n",
       "\n"
      ],
      "text/plain": [
       "  XenaHosts                       XenaHostNames\n",
       "1 https://ucscpublic.xenahubs.net publicHub    \n",
       "2 https://ucscpublic.xenahubs.net publicHub    \n",
       "3 https://ucscpublic.xenahubs.net publicHub    \n",
       "  XenaCohorts                         \n",
       "1 Breast Cancer Cell Lines (Neve 2006)\n",
       "2 Breast Cancer (Chin 2006)           \n",
       "3 Melanoma (Lin 2008)                 \n",
       "  XenaDatasets                              SampleCount DataSubtype    \n",
       "1 ucsfNeve_public/ucsfNeveExp_genomicMatrix  51         gene expression\n",
       "2 chin2006_public/chin2006Exp_genomicMatrix 118         gene expression\n",
       "3 lin2008_public/lin2008Exp_genomicMatrix    95         gene expression\n",
       "  Label                          Type          AnatomicalOrigin SampleType\n",
       "1 Neve Cell Line gene expression genomicMatrix Breast           cell line \n",
       "2 Gene expression                genomicMatrix Breast           tumor     \n",
       "3 Lin Gene Exp                   genomicMatrix Skin             tumor     \n",
       "  Tags                     ProbeMap                                         \n",
       "1 cell lines,breast cancer probeMap/affyU133_ucscGenomeBrowser_hg18.probeMap\n",
       "2 cancer                   probeMap/affyU133_ucscGenomeBrowser_hg18.probeMap\n",
       "3 cancer                   probeMap/affyU133_ucscGenomeBrowser_hg18.probeMap\n",
       "  LongTitle                                               \n",
       "1 Cell Line Gene Expression (Neve et al. Cancer Cell 2006)\n",
       "2 Gene Expression (Chin et al. Cancer Cell 2006)          \n",
       "3 Melanoma Gene Expression (Lin et al. 2008)              \n",
       "  Citation                             Version    Unit Platform\n",
       "1 Cancer Cell. 2006 Dec;10(6):515-27.  2011-11-01 NA   NA      \n",
       "2 Cancer Cell. 2006 Dec;10(6):529-41.  2011-11-01 NA   NA      \n",
       "3 Cancer Res. 2008 Feb 1;68(3):664-73. 2011-11-01 NA   NA      "
      ]
     },
     "metadata": {},
     "output_type": "display_data"
    }
   ],
   "source": [
    "XenaScan(\n",
    "    pattern = 'Glioblastoma|gene expression', \n",
    "    ignore.case = T) %>%\n",
    "    head(3)"
   ]
  },
  {
   "cell_type": "markdown",
   "id": "5d464d3b-d343-49c7-a5fe-7860a2f1af11",
   "metadata": {},
   "source": [
    "#### *AND*"
   ]
  },
  {
   "cell_type": "code",
   "execution_count": 5,
   "id": "2dc46b83-ff40-4aff-a5ce-fd4a9c24bcbc",
   "metadata": {},
   "outputs": [
    {
     "data": {
      "text/html": [
       "<table class=\"dataframe\">\n",
       "<caption>A tibble: 3 × 17</caption>\n",
       "<thead>\n",
       "\t<tr><th scope=col>XenaHosts</th><th scope=col>XenaHostNames</th><th scope=col>XenaCohorts</th><th scope=col>XenaDatasets</th><th scope=col>SampleCount</th><th scope=col>DataSubtype</th><th scope=col>Label</th><th scope=col>Type</th><th scope=col>AnatomicalOrigin</th><th scope=col>SampleType</th><th scope=col>Tags</th><th scope=col>ProbeMap</th><th scope=col>LongTitle</th><th scope=col>Citation</th><th scope=col>Version</th><th scope=col>Unit</th><th scope=col>Platform</th></tr>\n",
       "\t<tr><th scope=col>&lt;chr&gt;</th><th scope=col>&lt;chr&gt;</th><th scope=col>&lt;chr&gt;</th><th scope=col>&lt;chr&gt;</th><th scope=col>&lt;int&gt;</th><th scope=col>&lt;chr&gt;</th><th scope=col>&lt;chr&gt;</th><th scope=col>&lt;chr&gt;</th><th scope=col>&lt;chr&gt;</th><th scope=col>&lt;chr&gt;</th><th scope=col>&lt;chr&gt;</th><th scope=col>&lt;chr&gt;</th><th scope=col>&lt;chr&gt;</th><th scope=col>&lt;chr&gt;</th><th scope=col>&lt;chr&gt;</th><th scope=col>&lt;chr&gt;</th><th scope=col>&lt;chr&gt;</th></tr>\n",
       "</thead>\n",
       "<tbody>\n",
       "\t<tr><td>https://tcga.xenahubs.net</td><td>tcgaHub</td><td>TCGA Glioblastoma (GBM)</td><td>TCGA.GBM.sampleMap/HT_HG-U133A       </td><td>539</td><td>gene expression array </td><td>AffyU133a                      </td><td>genomicMatrix</td><td>Brain</td><td>tumor</td><td>cancer,nervous system</td><td>NA                                                </td><td>TCGA glioblastoma multiforme (GBM) gene expression (AffyU133a array)                                  </td><td>NA</td><td>2017-09-08</td><td>log2(affy RMA)                          </td><td>AffyU133a             </td></tr>\n",
       "\t<tr><td>https://tcga.xenahubs.net</td><td>tcgaHub</td><td>TCGA Glioblastoma (GBM)</td><td>TCGA.GBM.sampleMap/HiSeqV2_percentile</td><td>172</td><td>gene expression RNAseq</td><td>IlluminaHiSeq percentile       </td><td>genomicMatrix</td><td>Brain</td><td>tumor</td><td>cancer,nervous system</td><td>probeMap/hugo_gencode_good_hg19_V24lift37_probemap</td><td>TCGA glioblastoma multiforme (GBM) gene expression by RNAseq (polyA+ IlluminaHiSeq percentile)        </td><td>NA</td><td>2017-10-13</td><td>percentile rank                         </td><td>IlluminaHiSeq_RNASeqV2</td></tr>\n",
       "\t<tr><td>https://tcga.xenahubs.net</td><td>tcgaHub</td><td>TCGA Glioblastoma (GBM)</td><td>TCGA.GBM.sampleMap/HiSeqV2_PANCAN    </td><td>172</td><td>gene expression RNAseq</td><td>IlluminaHiSeq pancan normalized</td><td>genomicMatrix</td><td>Brain</td><td>tumor</td><td>cancer,nervous system</td><td>probeMap/hugo_gencode_good_hg19_V24lift37_probemap</td><td>TCGA glioblastoma multiforme (GBM) gene expression by RNAseq (ployA+ IlluminaHiSeq), pancan normalized</td><td>NA</td><td>2017-10-13</td><td>pan-cancer normalized log2(norm_count+1)</td><td>IlluminaHiSeq_RNASeqV2</td></tr>\n",
       "</tbody>\n",
       "</table>\n"
      ],
      "text/latex": [
       "A tibble: 3 × 17\n",
       "\\begin{tabular}{lllllllllllllllll}\n",
       " XenaHosts & XenaHostNames & XenaCohorts & XenaDatasets & SampleCount & DataSubtype & Label & Type & AnatomicalOrigin & SampleType & Tags & ProbeMap & LongTitle & Citation & Version & Unit & Platform\\\\\n",
       " <chr> & <chr> & <chr> & <chr> & <int> & <chr> & <chr> & <chr> & <chr> & <chr> & <chr> & <chr> & <chr> & <chr> & <chr> & <chr> & <chr>\\\\\n",
       "\\hline\n",
       "\t https://tcga.xenahubs.net & tcgaHub & TCGA Glioblastoma (GBM) & TCGA.GBM.sampleMap/HT\\_HG-U133A        & 539 & gene expression array  & AffyU133a                       & genomicMatrix & Brain & tumor & cancer,nervous system & NA                                                 & TCGA glioblastoma multiforme (GBM) gene expression (AffyU133a array)                                   & NA & 2017-09-08 & log2(affy RMA)                           & AffyU133a             \\\\\n",
       "\t https://tcga.xenahubs.net & tcgaHub & TCGA Glioblastoma (GBM) & TCGA.GBM.sampleMap/HiSeqV2\\_percentile & 172 & gene expression RNAseq & IlluminaHiSeq percentile        & genomicMatrix & Brain & tumor & cancer,nervous system & probeMap/hugo\\_gencode\\_good\\_hg19\\_V24lift37\\_probemap & TCGA glioblastoma multiforme (GBM) gene expression by RNAseq (polyA+ IlluminaHiSeq percentile)         & NA & 2017-10-13 & percentile rank                          & IlluminaHiSeq\\_RNASeqV2\\\\\n",
       "\t https://tcga.xenahubs.net & tcgaHub & TCGA Glioblastoma (GBM) & TCGA.GBM.sampleMap/HiSeqV2\\_PANCAN     & 172 & gene expression RNAseq & IlluminaHiSeq pancan normalized & genomicMatrix & Brain & tumor & cancer,nervous system & probeMap/hugo\\_gencode\\_good\\_hg19\\_V24lift37\\_probemap & TCGA glioblastoma multiforme (GBM) gene expression by RNAseq (ployA+ IlluminaHiSeq), pancan normalized & NA & 2017-10-13 & pan-cancer normalized log2(norm\\_count+1) & IlluminaHiSeq\\_RNASeqV2\\\\\n",
       "\\end{tabular}\n"
      ],
      "text/markdown": [
       "\n",
       "A tibble: 3 × 17\n",
       "\n",
       "| XenaHosts &lt;chr&gt; | XenaHostNames &lt;chr&gt; | XenaCohorts &lt;chr&gt; | XenaDatasets &lt;chr&gt; | SampleCount &lt;int&gt; | DataSubtype &lt;chr&gt; | Label &lt;chr&gt; | Type &lt;chr&gt; | AnatomicalOrigin &lt;chr&gt; | SampleType &lt;chr&gt; | Tags &lt;chr&gt; | ProbeMap &lt;chr&gt; | LongTitle &lt;chr&gt; | Citation &lt;chr&gt; | Version &lt;chr&gt; | Unit &lt;chr&gt; | Platform &lt;chr&gt; |\n",
       "|---|---|---|---|---|---|---|---|---|---|---|---|---|---|---|---|---|\n",
       "| https://tcga.xenahubs.net | tcgaHub | TCGA Glioblastoma (GBM) | TCGA.GBM.sampleMap/HT_HG-U133A        | 539 | gene expression array  | AffyU133a                       | genomicMatrix | Brain | tumor | cancer,nervous system | NA                                                 | TCGA glioblastoma multiforme (GBM) gene expression (AffyU133a array)                                   | NA | 2017-09-08 | log2(affy RMA)                           | AffyU133a              |\n",
       "| https://tcga.xenahubs.net | tcgaHub | TCGA Glioblastoma (GBM) | TCGA.GBM.sampleMap/HiSeqV2_percentile | 172 | gene expression RNAseq | IlluminaHiSeq percentile        | genomicMatrix | Brain | tumor | cancer,nervous system | probeMap/hugo_gencode_good_hg19_V24lift37_probemap | TCGA glioblastoma multiforme (GBM) gene expression by RNAseq (polyA+ IlluminaHiSeq percentile)         | NA | 2017-10-13 | percentile rank                          | IlluminaHiSeq_RNASeqV2 |\n",
       "| https://tcga.xenahubs.net | tcgaHub | TCGA Glioblastoma (GBM) | TCGA.GBM.sampleMap/HiSeqV2_PANCAN     | 172 | gene expression RNAseq | IlluminaHiSeq pancan normalized | genomicMatrix | Brain | tumor | cancer,nervous system | probeMap/hugo_gencode_good_hg19_V24lift37_probemap | TCGA glioblastoma multiforme (GBM) gene expression by RNAseq (ployA+ IlluminaHiSeq), pancan normalized | NA | 2017-10-13 | pan-cancer normalized log2(norm_count+1) | IlluminaHiSeq_RNASeqV2 |\n",
       "\n"
      ],
      "text/plain": [
       "  XenaHosts                 XenaHostNames XenaCohorts            \n",
       "1 https://tcga.xenahubs.net tcgaHub       TCGA Glioblastoma (GBM)\n",
       "2 https://tcga.xenahubs.net tcgaHub       TCGA Glioblastoma (GBM)\n",
       "3 https://tcga.xenahubs.net tcgaHub       TCGA Glioblastoma (GBM)\n",
       "  XenaDatasets                          SampleCount DataSubtype           \n",
       "1 TCGA.GBM.sampleMap/HT_HG-U133A        539         gene expression array \n",
       "2 TCGA.GBM.sampleMap/HiSeqV2_percentile 172         gene expression RNAseq\n",
       "3 TCGA.GBM.sampleMap/HiSeqV2_PANCAN     172         gene expression RNAseq\n",
       "  Label                           Type          AnatomicalOrigin SampleType\n",
       "1 AffyU133a                       genomicMatrix Brain            tumor     \n",
       "2 IlluminaHiSeq percentile        genomicMatrix Brain            tumor     \n",
       "3 IlluminaHiSeq pancan normalized genomicMatrix Brain            tumor     \n",
       "  Tags                  ProbeMap                                          \n",
       "1 cancer,nervous system NA                                                \n",
       "2 cancer,nervous system probeMap/hugo_gencode_good_hg19_V24lift37_probemap\n",
       "3 cancer,nervous system probeMap/hugo_gencode_good_hg19_V24lift37_probemap\n",
       "  LongTitle                                                                                             \n",
       "1 TCGA glioblastoma multiforme (GBM) gene expression (AffyU133a array)                                  \n",
       "2 TCGA glioblastoma multiforme (GBM) gene expression by RNAseq (polyA+ IlluminaHiSeq percentile)        \n",
       "3 TCGA glioblastoma multiforme (GBM) gene expression by RNAseq (ployA+ IlluminaHiSeq), pancan normalized\n",
       "  Citation Version    Unit                                    \n",
       "1 NA       2017-09-08 log2(affy RMA)                          \n",
       "2 NA       2017-10-13 percentile rank                         \n",
       "3 NA       2017-10-13 pan-cancer normalized log2(norm_count+1)\n",
       "  Platform              \n",
       "1 AffyU133a             \n",
       "2 IlluminaHiSeq_RNASeqV2\n",
       "3 IlluminaHiSeq_RNASeqV2"
      ]
     },
     "metadata": {},
     "output_type": "display_data"
    }
   ],
   "source": [
    "XenaScan(\n",
    "    pattern = 'Glioblastoma.*gene expression|gene expression.*Glioblastoma', \n",
    "    ignore.case = T) %>%\n",
    "    head(3)"
   ]
  },
  {
   "cell_type": "markdown",
   "id": "215c9b35-3264-40aa-8140-b120fc446f09",
   "metadata": {},
   "source": [
    "#### *grep*"
   ]
  },
  {
   "cell_type": "code",
   "execution_count": 6,
   "id": "c15dcb92-63fc-4e2c-bc6f-cc1571d3b601",
   "metadata": {},
   "outputs": [
    {
     "data": {
      "text/html": [
       "<table class=\"dataframe\">\n",
       "<caption>A tibble: 3 × 17</caption>\n",
       "<thead>\n",
       "\t<tr><th scope=col>XenaHosts</th><th scope=col>XenaHostNames</th><th scope=col>XenaCohorts</th><th scope=col>XenaDatasets</th><th scope=col>SampleCount</th><th scope=col>DataSubtype</th><th scope=col>Label</th><th scope=col>Type</th><th scope=col>AnatomicalOrigin</th><th scope=col>SampleType</th><th scope=col>Tags</th><th scope=col>ProbeMap</th><th scope=col>LongTitle</th><th scope=col>Citation</th><th scope=col>Version</th><th scope=col>Unit</th><th scope=col>Platform</th></tr>\n",
       "\t<tr><th scope=col>&lt;chr&gt;</th><th scope=col>&lt;chr&gt;</th><th scope=col>&lt;chr&gt;</th><th scope=col>&lt;chr&gt;</th><th scope=col>&lt;int&gt;</th><th scope=col>&lt;chr&gt;</th><th scope=col>&lt;chr&gt;</th><th scope=col>&lt;chr&gt;</th><th scope=col>&lt;chr&gt;</th><th scope=col>&lt;chr&gt;</th><th scope=col>&lt;chr&gt;</th><th scope=col>&lt;chr&gt;</th><th scope=col>&lt;chr&gt;</th><th scope=col>&lt;chr&gt;</th><th scope=col>&lt;chr&gt;</th><th scope=col>&lt;chr&gt;</th><th scope=col>&lt;chr&gt;</th></tr>\n",
       "</thead>\n",
       "<tbody>\n",
       "\t<tr><td>https://tcga.xenahubs.net</td><td>tcgaHub</td><td>TCGA Lower Grade Glioma (LGG)</td><td>TCGA.LGG.sampleMap/HiSeqV2_percentile</td><td>530</td><td>gene expression RNAseq</td><td>IlluminaHiSeq percentile       </td><td>genomicMatrix</td><td>Brain</td><td>tumor</td><td>cancer,nervous system</td><td>probeMap/hugo_gencode_good_hg19_V24lift37_probemap</td><td>TCGA brain lower grade glioma (LGG) gene expression by RNAseq (polyA+ IlluminaHiSeq percentile)        </td><td>NA</td><td>2017-10-13</td><td>percentile rank                         </td><td>IlluminaHiSeq_RNASeqV2</td></tr>\n",
       "\t<tr><td>https://tcga.xenahubs.net</td><td>tcgaHub</td><td>TCGA Lower Grade Glioma (LGG)</td><td>TCGA.LGG.sampleMap/HiSeqV2_PANCAN    </td><td>530</td><td>gene expression RNAseq</td><td>IlluminaHiSeq pancan normalized</td><td>genomicMatrix</td><td>Brain</td><td>tumor</td><td>cancer,nervous system</td><td>probeMap/hugo_gencode_good_hg19_V24lift37_probemap</td><td>TCGA brain lower grade glioma (LGG) gene expression by RNAseq (ployA+ IlluminaHiSeq), pancan normalized</td><td>NA</td><td>2017-10-13</td><td>pan-cancer normalized log2(norm_count+1)</td><td>IlluminaHiSeq_RNASeqV2</td></tr>\n",
       "\t<tr><td>https://tcga.xenahubs.net</td><td>tcgaHub</td><td>TCGA Lower Grade Glioma (LGG)</td><td>TCGA.LGG.sampleMap/HiSeqV2           </td><td>530</td><td>gene expression RNAseq</td><td>IlluminaHiSeq                  </td><td>genomicMatrix</td><td>Brain</td><td>tumor</td><td>cancer,nervous system</td><td>probeMap/hugo_gencode_good_hg19_V24lift37_probemap</td><td>TCGA brain lower grade glioma (LGG) gene expression by RNAseq (polyA+ IlluminaHiSeq)                   </td><td>NA</td><td>2017-10-13</td><td>log2(norm_count+1)                      </td><td>IlluminaHiSeq_RNASeqV2</td></tr>\n",
       "</tbody>\n",
       "</table>\n"
      ],
      "text/latex": [
       "A tibble: 3 × 17\n",
       "\\begin{tabular}{lllllllllllllllll}\n",
       " XenaHosts & XenaHostNames & XenaCohorts & XenaDatasets & SampleCount & DataSubtype & Label & Type & AnatomicalOrigin & SampleType & Tags & ProbeMap & LongTitle & Citation & Version & Unit & Platform\\\\\n",
       " <chr> & <chr> & <chr> & <chr> & <int> & <chr> & <chr> & <chr> & <chr> & <chr> & <chr> & <chr> & <chr> & <chr> & <chr> & <chr> & <chr>\\\\\n",
       "\\hline\n",
       "\t https://tcga.xenahubs.net & tcgaHub & TCGA Lower Grade Glioma (LGG) & TCGA.LGG.sampleMap/HiSeqV2\\_percentile & 530 & gene expression RNAseq & IlluminaHiSeq percentile        & genomicMatrix & Brain & tumor & cancer,nervous system & probeMap/hugo\\_gencode\\_good\\_hg19\\_V24lift37\\_probemap & TCGA brain lower grade glioma (LGG) gene expression by RNAseq (polyA+ IlluminaHiSeq percentile)         & NA & 2017-10-13 & percentile rank                          & IlluminaHiSeq\\_RNASeqV2\\\\\n",
       "\t https://tcga.xenahubs.net & tcgaHub & TCGA Lower Grade Glioma (LGG) & TCGA.LGG.sampleMap/HiSeqV2\\_PANCAN     & 530 & gene expression RNAseq & IlluminaHiSeq pancan normalized & genomicMatrix & Brain & tumor & cancer,nervous system & probeMap/hugo\\_gencode\\_good\\_hg19\\_V24lift37\\_probemap & TCGA brain lower grade glioma (LGG) gene expression by RNAseq (ployA+ IlluminaHiSeq), pancan normalized & NA & 2017-10-13 & pan-cancer normalized log2(norm\\_count+1) & IlluminaHiSeq\\_RNASeqV2\\\\\n",
       "\t https://tcga.xenahubs.net & tcgaHub & TCGA Lower Grade Glioma (LGG) & TCGA.LGG.sampleMap/HiSeqV2            & 530 & gene expression RNAseq & IlluminaHiSeq                   & genomicMatrix & Brain & tumor & cancer,nervous system & probeMap/hugo\\_gencode\\_good\\_hg19\\_V24lift37\\_probemap & TCGA brain lower grade glioma (LGG) gene expression by RNAseq (polyA+ IlluminaHiSeq)                    & NA & 2017-10-13 & log2(norm\\_count+1)                       & IlluminaHiSeq\\_RNASeqV2\\\\\n",
       "\\end{tabular}\n"
      ],
      "text/markdown": [
       "\n",
       "A tibble: 3 × 17\n",
       "\n",
       "| XenaHosts &lt;chr&gt; | XenaHostNames &lt;chr&gt; | XenaCohorts &lt;chr&gt; | XenaDatasets &lt;chr&gt; | SampleCount &lt;int&gt; | DataSubtype &lt;chr&gt; | Label &lt;chr&gt; | Type &lt;chr&gt; | AnatomicalOrigin &lt;chr&gt; | SampleType &lt;chr&gt; | Tags &lt;chr&gt; | ProbeMap &lt;chr&gt; | LongTitle &lt;chr&gt; | Citation &lt;chr&gt; | Version &lt;chr&gt; | Unit &lt;chr&gt; | Platform &lt;chr&gt; |\n",
       "|---|---|---|---|---|---|---|---|---|---|---|---|---|---|---|---|---|\n",
       "| https://tcga.xenahubs.net | tcgaHub | TCGA Lower Grade Glioma (LGG) | TCGA.LGG.sampleMap/HiSeqV2_percentile | 530 | gene expression RNAseq | IlluminaHiSeq percentile        | genomicMatrix | Brain | tumor | cancer,nervous system | probeMap/hugo_gencode_good_hg19_V24lift37_probemap | TCGA brain lower grade glioma (LGG) gene expression by RNAseq (polyA+ IlluminaHiSeq percentile)         | NA | 2017-10-13 | percentile rank                          | IlluminaHiSeq_RNASeqV2 |\n",
       "| https://tcga.xenahubs.net | tcgaHub | TCGA Lower Grade Glioma (LGG) | TCGA.LGG.sampleMap/HiSeqV2_PANCAN     | 530 | gene expression RNAseq | IlluminaHiSeq pancan normalized | genomicMatrix | Brain | tumor | cancer,nervous system | probeMap/hugo_gencode_good_hg19_V24lift37_probemap | TCGA brain lower grade glioma (LGG) gene expression by RNAseq (ployA+ IlluminaHiSeq), pancan normalized | NA | 2017-10-13 | pan-cancer normalized log2(norm_count+1) | IlluminaHiSeq_RNASeqV2 |\n",
       "| https://tcga.xenahubs.net | tcgaHub | TCGA Lower Grade Glioma (LGG) | TCGA.LGG.sampleMap/HiSeqV2            | 530 | gene expression RNAseq | IlluminaHiSeq                   | genomicMatrix | Brain | tumor | cancer,nervous system | probeMap/hugo_gencode_good_hg19_V24lift37_probemap | TCGA brain lower grade glioma (LGG) gene expression by RNAseq (polyA+ IlluminaHiSeq)                    | NA | 2017-10-13 | log2(norm_count+1)                       | IlluminaHiSeq_RNASeqV2 |\n",
       "\n"
      ],
      "text/plain": [
       "  XenaHosts                 XenaHostNames XenaCohorts                  \n",
       "1 https://tcga.xenahubs.net tcgaHub       TCGA Lower Grade Glioma (LGG)\n",
       "2 https://tcga.xenahubs.net tcgaHub       TCGA Lower Grade Glioma (LGG)\n",
       "3 https://tcga.xenahubs.net tcgaHub       TCGA Lower Grade Glioma (LGG)\n",
       "  XenaDatasets                          SampleCount DataSubtype           \n",
       "1 TCGA.LGG.sampleMap/HiSeqV2_percentile 530         gene expression RNAseq\n",
       "2 TCGA.LGG.sampleMap/HiSeqV2_PANCAN     530         gene expression RNAseq\n",
       "3 TCGA.LGG.sampleMap/HiSeqV2            530         gene expression RNAseq\n",
       "  Label                           Type          AnatomicalOrigin SampleType\n",
       "1 IlluminaHiSeq percentile        genomicMatrix Brain            tumor     \n",
       "2 IlluminaHiSeq pancan normalized genomicMatrix Brain            tumor     \n",
       "3 IlluminaHiSeq                   genomicMatrix Brain            tumor     \n",
       "  Tags                  ProbeMap                                          \n",
       "1 cancer,nervous system probeMap/hugo_gencode_good_hg19_V24lift37_probemap\n",
       "2 cancer,nervous system probeMap/hugo_gencode_good_hg19_V24lift37_probemap\n",
       "3 cancer,nervous system probeMap/hugo_gencode_good_hg19_V24lift37_probemap\n",
       "  LongTitle                                                                                              \n",
       "1 TCGA brain lower grade glioma (LGG) gene expression by RNAseq (polyA+ IlluminaHiSeq percentile)        \n",
       "2 TCGA brain lower grade glioma (LGG) gene expression by RNAseq (ployA+ IlluminaHiSeq), pancan normalized\n",
       "3 TCGA brain lower grade glioma (LGG) gene expression by RNAseq (polyA+ IlluminaHiSeq)                   \n",
       "  Citation Version    Unit                                    \n",
       "1 NA       2017-10-13 percentile rank                         \n",
       "2 NA       2017-10-13 pan-cancer normalized log2(norm_count+1)\n",
       "3 NA       2017-10-13 log2(norm_count+1)                      \n",
       "  Platform              \n",
       "1 IlluminaHiSeq_RNASeqV2\n",
       "2 IlluminaHiSeq_RNASeqV2\n",
       "3 IlluminaHiSeq_RNASeqV2"
      ]
     },
     "metadata": {},
     "output_type": "display_data"
    }
   ],
   "source": [
    "XenaData %>%\n",
    "    filter(\n",
    "        grepl(XenaHostNames, pattern = 'tcga', ignore.case = T), \n",
    "        grepl(DataSubtype, pattern = 'gene expression', ignore.case = T),\n",
    "        grepl(AnatomicalOrigin, pattern = 'brain', ignore.case = T)\n",
    "    ) %>%\n",
    "    head(3)"
   ]
  },
  {
   "cell_type": "markdown",
   "id": "e139a744-dd83-4455-be05-9504d2f8d1a3",
   "metadata": {
    "tags": []
   },
   "source": [
    "## 1.2. access Xena via *UCSCXenaTools* package"
   ]
  },
  {
   "cell_type": "markdown",
   "id": "e1d4894d-e195-49af-af4a-86990834507c",
   "metadata": {},
   "source": [
    "[![](https://mermaid.ink/img/pako:eNqNkVFrgzAUhf9KyJMDK1jffBisTTf2ttE9FGoZt-aqgZhITBil9r8vzqivy9PlnC-He7h3WmqONKe1ga4hX6xQxL_eXSfhDRUasDjJL99plCaklvoKkvQIpmyeZmsbbROiq0qUYjQtdouVRVlCOFjo0b4z4nqoMZio-DTsok-H5hbkfcT0j5IaeBBY9GGwA4NLaEo2m2cynFDBsQQVk3Ga9x12y1or5k0YzQl9FdKiWcHsf-DpvBS5kE3iv_ivocKa8Ndl2K_CXGdgqxYaDYcz85EXGtMWTQuC-3vcx8iC2gZbLGjuR44VOGkLWqiHR13n98ADF1Ybmlcge4wpOKuPN1XS3BqHM8QE-Gu2gXr8AgTsnug)](https://mermaid-js.github.io/mermaid-live-editor/edit#pako:eNqNkVFrgzAUhf9KyJMDK1jffBisTTf2ttE9FGoZt-aqgZhITBil9r8vzqivy9PlnC-He7h3WmqONKe1ga4hX6xQxL_eXSfhDRUasDjJL99plCaklvoKkvQIpmyeZmsbbROiq0qUYjQtdouVRVlCOFjo0b4z4nqoMZio-DTsok-H5hbkfcT0j5IaeBBY9GGwA4NLaEo2m2cynFDBsQQVk3Ga9x12y1or5k0YzQl9FdKiWcHsf-DpvBS5kE3iv_ivocKa8Ndl2K_CXGdgqxYaDYcz85EXGtMWTQuC-3vcx8iC2gZbLGjuR44VOGkLWqiHR13n98ADF1Ybmlcge4wpOKuPN1XS3BqHM8QE-Gu2gXr8AgTsnug)"
   ]
  },
  {
   "cell_type": "markdown",
   "id": "53356b1e-d667-4069-a429-11c3ce5994c2",
   "metadata": {},
   "source": [
    "### 1.2.1. step 1: generate"
   ]
  },
  {
   "cell_type": "markdown",
   "id": "8ecb75ab-2b78-4938-938c-0d947e91a0f3",
   "metadata": {},
   "source": [
    "#### option 1: global search-based"
   ]
  },
  {
   "cell_type": "code",
   "execution_count": 7,
   "id": "b76436ce-49a5-4322-809a-5fe5fc8978db",
   "metadata": {},
   "outputs": [
    {
     "data": {
      "text/html": [
       "<style>\n",
       ".list-inline {list-style: none; margin:0; padding: 0}\n",
       ".list-inline>li {display: inline-block}\n",
       ".list-inline>li:not(:last-child)::after {content: \"\\00b7\"; padding: 0 .5ex}\n",
       "</style>\n",
       "<ol class=list-inline><li>'TCGA.GBM.sampleMap/HT_HG-U133A'</li><li>'TCGA.GBM.sampleMap/HiSeqV2_percentile'</li><li>'TCGA.GBM.sampleMap/HiSeqV2_PANCAN'</li><li>'TCGA.GBM.sampleMap/HiSeqV2'</li><li>'TCGA.GBM.sampleMap/AgilentG4502A_07_2'</li><li>'TCGA.GBM.sampleMap/AgilentG4502A_07_1'</li><li>'TCGA.GBMLGG.sampleMap/HiSeqV2_PANCAN'</li><li>'TCGA.GBMLGG.sampleMap/HiSeqV2'</li></ol>\n"
      ],
      "text/latex": [
       "\\begin{enumerate*}\n",
       "\\item 'TCGA.GBM.sampleMap/HT\\_HG-U133A'\n",
       "\\item 'TCGA.GBM.sampleMap/HiSeqV2\\_percentile'\n",
       "\\item 'TCGA.GBM.sampleMap/HiSeqV2\\_PANCAN'\n",
       "\\item 'TCGA.GBM.sampleMap/HiSeqV2'\n",
       "\\item 'TCGA.GBM.sampleMap/AgilentG4502A\\_07\\_2'\n",
       "\\item 'TCGA.GBM.sampleMap/AgilentG4502A\\_07\\_1'\n",
       "\\item 'TCGA.GBMLGG.sampleMap/HiSeqV2\\_PANCAN'\n",
       "\\item 'TCGA.GBMLGG.sampleMap/HiSeqV2'\n",
       "\\end{enumerate*}\n"
      ],
      "text/markdown": [
       "1. 'TCGA.GBM.sampleMap/HT_HG-U133A'\n",
       "2. 'TCGA.GBM.sampleMap/HiSeqV2_percentile'\n",
       "3. 'TCGA.GBM.sampleMap/HiSeqV2_PANCAN'\n",
       "4. 'TCGA.GBM.sampleMap/HiSeqV2'\n",
       "5. 'TCGA.GBM.sampleMap/AgilentG4502A_07_2'\n",
       "6. 'TCGA.GBM.sampleMap/AgilentG4502A_07_1'\n",
       "7. 'TCGA.GBMLGG.sampleMap/HiSeqV2_PANCAN'\n",
       "8. 'TCGA.GBMLGG.sampleMap/HiSeqV2'\n",
       "\n",
       "\n"
      ],
      "text/plain": [
       "[1] \"TCGA.GBM.sampleMap/HT_HG-U133A\"       \n",
       "[2] \"TCGA.GBM.sampleMap/HiSeqV2_percentile\"\n",
       "[3] \"TCGA.GBM.sampleMap/HiSeqV2_PANCAN\"    \n",
       "[4] \"TCGA.GBM.sampleMap/HiSeqV2\"           \n",
       "[5] \"TCGA.GBM.sampleMap/AgilentG4502A_07_2\"\n",
       "[6] \"TCGA.GBM.sampleMap/AgilentG4502A_07_1\"\n",
       "[7] \"TCGA.GBMLGG.sampleMap/HiSeqV2_PANCAN\" \n",
       "[8] \"TCGA.GBMLGG.sampleMap/HiSeqV2\"        "
      ]
     },
     "metadata": {},
     "output_type": "display_data"
    }
   ],
   "source": [
    "file_op1 =\n",
    "    XenaScan(pattern = 'Glioblastoma.*gene expression|gene expression.*Glioblastoma', ignore.case = T) %>% # search Glioblastoma AND gene expression\n",
    "    XenaGenerate()\n",
    "file_op1@datasets"
   ]
  },
  {
   "cell_type": "markdown",
   "id": "af1fc5ef-c435-4b0f-88a6-92a4c626b162",
   "metadata": {},
   "source": [
    "#### option 2: official steps"
   ]
  },
  {
   "cell_type": "code",
   "execution_count": 8,
   "id": "2263b088-2486-41e8-9222-ca4fa3dc1a2b",
   "metadata": {},
   "outputs": [
    {
     "data": {
      "text/html": [
       "<style>\n",
       ".list-inline {list-style: none; margin:0; padding: 0}\n",
       ".list-inline>li {display: inline-block}\n",
       ".list-inline>li:not(:last-child)::after {content: \"\\00b7\"; padding: 0 .5ex}\n",
       "</style>\n",
       "<ol class=list-inline><li>'TCGA.GBM.sampleMap/HiSeqV2_PANCAN'</li><li>'TCGA.GBMLGG.sampleMap/HiSeqV2_PANCAN'</li></ol>\n"
      ],
      "text/latex": [
       "\\begin{enumerate*}\n",
       "\\item 'TCGA.GBM.sampleMap/HiSeqV2\\_PANCAN'\n",
       "\\item 'TCGA.GBMLGG.sampleMap/HiSeqV2\\_PANCAN'\n",
       "\\end{enumerate*}\n"
      ],
      "text/markdown": [
       "1. 'TCGA.GBM.sampleMap/HiSeqV2_PANCAN'\n",
       "2. 'TCGA.GBMLGG.sampleMap/HiSeqV2_PANCAN'\n",
       "\n",
       "\n"
      ],
      "text/plain": [
       "[1] \"TCGA.GBM.sampleMap/HiSeqV2_PANCAN\"   \n",
       "[2] \"TCGA.GBMLGG.sampleMap/HiSeqV2_PANCAN\""
      ]
     },
     "metadata": {},
     "output_type": "display_data"
    }
   ],
   "source": [
    "file_op2 = \n",
    "    XenaGenerate(subset = XenaHostNames==\"tcgaHub\") %>% \n",
    "    XenaFilter(filterDatasets = \"GBM.*HiSeqV2_PANCAN|HiSeqV2_PANCAN.*GBM\")\n",
    "file_op2@datasets"
   ]
  },
  {
   "cell_type": "markdown",
   "id": "7278570c-6747-4217-8bcc-e82eabd86d91",
   "metadata": {},
   "source": [
    "#### option 3: use datasetID directly"
   ]
  },
  {
   "cell_type": "code",
   "execution_count": 9,
   "id": "623ffb3b-93f4-46c9-81a0-009065e166a6",
   "metadata": {},
   "outputs": [
    {
     "data": {
      "text/html": [
       "'TCGA.GBM.sampleMap/HiSeqV2_PANCAN'"
      ],
      "text/latex": [
       "'TCGA.GBM.sampleMap/HiSeqV2\\_PANCAN'"
      ],
      "text/markdown": [
       "'TCGA.GBM.sampleMap/HiSeqV2_PANCAN'"
      ],
      "text/plain": [
       "[1] \"TCGA.GBM.sampleMap/HiSeqV2_PANCAN\""
      ]
     },
     "metadata": {},
     "output_type": "display_data"
    }
   ],
   "source": [
    "datasetID = 'TCGA.GBM.sampleMap/HiSeqV2_PANCAN'\n",
    "file_op3 = \n",
    "    XenaGenerate() %>% \n",
    "    XenaFilter(filterDatasets = datasetID)\n",
    "file_op3@datasets"
   ]
  },
  {
   "cell_type": "markdown",
   "id": "5d6977a5-48a4-4354-a615-7cecd7097686",
   "metadata": {},
   "source": [
    "### 1.2.2. step2~4: query, download, prepare"
   ]
  },
  {
   "cell_type": "code",
   "execution_count": 10,
   "id": "3e29047f-170f-4fff-bbb3-7a6b57268c8e",
   "metadata": {},
   "outputs": [
    {
     "name": "stderr",
     "output_type": "stream",
     "text": [
      "This will check url status, please be patient.\n",
      "\n",
      "All downloaded files will under directory /var/folders/_8/zggbz9tj0wg1klz_dtznfq1c0000gp/T//RtmpMGCMQ0.\n",
      "\n",
      "The 'trans_slash' option is FALSE, keep same directory structure as Xena.\n",
      "\n",
      "Creating directories for datasets...\n",
      "\n",
      "Downloading TCGA.GBM.sampleMap/HiSeqV2_PANCAN.gz\n",
      "\n"
     ]
    }
   ],
   "source": [
    "df_gbm_op3 = \n",
    "    file_op3 %>%\n",
    "    XenaQuery() %>%\n",
    "    XenaDownload() %>%\n",
    "    XenaPrepare()"
   ]
  },
  {
   "cell_type": "code",
   "execution_count": 11,
   "id": "999412b0-7728-49fa-ae54-cbf4c8c7d4b7",
   "metadata": {},
   "outputs": [
    {
     "data": {
      "text/html": [
       "<style>\n",
       ".list-inline {list-style: none; margin:0; padding: 0}\n",
       ".list-inline>li {display: inline-block}\n",
       ".list-inline>li:not(:last-child)::after {content: \"\\00b7\"; padding: 0 .5ex}\n",
       "</style>\n",
       "<ol class=list-inline><li>20530</li><li>173</li></ol>\n"
      ],
      "text/latex": [
       "\\begin{enumerate*}\n",
       "\\item 20530\n",
       "\\item 173\n",
       "\\end{enumerate*}\n"
      ],
      "text/markdown": [
       "1. 20530\n",
       "2. 173\n",
       "\n",
       "\n"
      ],
      "text/plain": [
       "[1] 20530   173"
      ]
     },
     "metadata": {},
     "output_type": "display_data"
    }
   ],
   "source": [
    "dim(df_gbm_op3)"
   ]
  },
  {
   "cell_type": "code",
   "execution_count": 12,
   "id": "e36bb1ac-7091-4f3d-a708-7a496d3b14ed",
   "metadata": {},
   "outputs": [
    {
     "data": {
      "text/html": [
       "<table class=\"dataframe\">\n",
       "<caption>A tibble: 6 × 173</caption>\n",
       "<thead>\n",
       "\t<tr><th scope=col>sample</th><th scope=col>TCGA-27-1832-01</th><th scope=col>TCGA-27-1831-01</th><th scope=col>TCGA-28-5216-01</th><th scope=col>TCGA-16-0846-01</th><th scope=col>TCGA-28-5218-01</th><th scope=col>TCGA-06-0178-01</th><th scope=col>TCGA-06-0238-01</th><th scope=col>TCGA-06-0125-01</th><th scope=col>TCGA-06-0219-01</th><th scope=col>⋯</th><th scope=col>TCGA-41-2571-01</th><th scope=col>TCGA-06-0129-01</th><th scope=col>TCGA-19-2625-01</th><th scope=col>TCGA-06-2565-01</th><th scope=col>TCGA-02-2485-01</th><th scope=col>TCGA-06-0210-01</th><th scope=col>TCGA-06-0210-02</th><th scope=col>TCGA-02-0047-01</th><th scope=col>TCGA-06-0750-01</th><th scope=col>TCGA-32-1982-01</th></tr>\n",
       "\t<tr><th scope=col>&lt;chr&gt;</th><th scope=col>&lt;dbl&gt;</th><th scope=col>&lt;dbl&gt;</th><th scope=col>&lt;dbl&gt;</th><th scope=col>&lt;dbl&gt;</th><th scope=col>&lt;dbl&gt;</th><th scope=col>&lt;dbl&gt;</th><th scope=col>&lt;dbl&gt;</th><th scope=col>&lt;dbl&gt;</th><th scope=col>&lt;dbl&gt;</th><th scope=col>⋯</th><th scope=col>&lt;dbl&gt;</th><th scope=col>&lt;dbl&gt;</th><th scope=col>&lt;dbl&gt;</th><th scope=col>&lt;dbl&gt;</th><th scope=col>&lt;dbl&gt;</th><th scope=col>&lt;dbl&gt;</th><th scope=col>&lt;dbl&gt;</th><th scope=col>&lt;dbl&gt;</th><th scope=col>&lt;dbl&gt;</th><th scope=col>&lt;dbl&gt;</th></tr>\n",
       "</thead>\n",
       "<tbody>\n",
       "\t<tr><td>ARHGEF10L</td><td> 0.02890753</td><td>-1.352492</td><td> 0.61200753</td><td> 1.2865075</td><td>-0.92129247</td><td> 0.02260753</td><td>-0.3741925</td><td> 0.6400075</td><td>-0.8533925</td><td>⋯</td><td> 0.2163075</td><td> 1.32490753</td><td> 1.3583075</td><td> 0.8795075</td><td> 0.9590075</td><td>-0.1939925</td><td> 1.169907530</td><td> 1.0210075</td><td> 0.48590753</td><td> 0.1981075</td></tr>\n",
       "\t<tr><td>HIF3A    </td><td> 3.69637366</td><td>-3.196826</td><td> 2.05677366</td><td> 1.9492737</td><td> 2.63017366</td><td> 0.22177366</td><td> 3.0663737</td><td> 2.0123737</td><td> 1.2174737</td><td>⋯</td><td> 3.1317737</td><td> 5.48117366</td><td> 5.1950737</td><td> 1.6137737</td><td> 4.1935737</td><td> 3.6297737</td><td> 3.229973664</td><td> 1.6477737</td><td> 1.84657366</td><td> 2.3579737</td></tr>\n",
       "\t<tr><td>RNF17    </td><td>-0.53103501</td><td>-0.531035</td><td>-0.53103501</td><td>-0.5310350</td><td>-0.53103501</td><td>-0.53103501</td><td>-0.5310350</td><td>-0.5310350</td><td> 0.1935650</td><td>⋯</td><td>-0.5310350</td><td>-0.53103501</td><td>-0.5310350</td><td>-0.5310350</td><td>-0.5310350</td><td>-0.5310350</td><td>-0.531035006</td><td>-0.5310350</td><td>-0.53103501</td><td>-0.5310350</td></tr>\n",
       "\t<tr><td>RNF10    </td><td> 0.18852801</td><td>-1.512372</td><td>-0.02367199</td><td>-0.1480720</td><td> 0.05832801</td><td>-0.66997199</td><td>-0.1533720</td><td>-0.3115720</td><td>-0.7232720</td><td>⋯</td><td> 0.1300280</td><td>-0.31197199</td><td> 0.1906280</td><td>-0.3231720</td><td>-0.3719720</td><td> 0.1967280</td><td> 0.009428014</td><td>-0.3518720</td><td>-0.01367199</td><td>-0.3961720</td></tr>\n",
       "\t<tr><td>RNF11    </td><td>-0.13947813</td><td> 1.384022</td><td> 0.73832187</td><td> 0.4903219</td><td>-0.14157813</td><td> 0.06972187</td><td> 0.8520219</td><td> 0.3420219</td><td> 1.0246219</td><td>⋯</td><td> 0.3810219</td><td>-0.04657813</td><td> 0.7265219</td><td> 0.3634219</td><td> 0.5096219</td><td> 0.5984219</td><td> 0.204221865</td><td> 0.4947219</td><td> 0.30112187</td><td> 0.4352219</td></tr>\n",
       "\t<tr><td>RNF13    </td><td> 0.73169009</td><td> 2.262790</td><td> 0.99539009</td><td> 0.8592901</td><td>-0.52660991</td><td> 2.08519009</td><td> 1.3606901</td><td> 0.1306901</td><td> 1.9210901</td><td>⋯</td><td> 0.4186901</td><td> 0.75179009</td><td>-0.1164099</td><td> 0.7756901</td><td> 0.5791901</td><td> 0.9342901</td><td> 0.912790090</td><td> 1.2942901</td><td> 0.68959009</td><td> 1.1663901</td></tr>\n",
       "</tbody>\n",
       "</table>\n"
      ],
      "text/latex": [
       "A tibble: 6 × 173\n",
       "\\begin{tabular}{lllllllllllllllllllll}\n",
       " sample & TCGA-27-1832-01 & TCGA-27-1831-01 & TCGA-28-5216-01 & TCGA-16-0846-01 & TCGA-28-5218-01 & TCGA-06-0178-01 & TCGA-06-0238-01 & TCGA-06-0125-01 & TCGA-06-0219-01 & ⋯ & TCGA-41-2571-01 & TCGA-06-0129-01 & TCGA-19-2625-01 & TCGA-06-2565-01 & TCGA-02-2485-01 & TCGA-06-0210-01 & TCGA-06-0210-02 & TCGA-02-0047-01 & TCGA-06-0750-01 & TCGA-32-1982-01\\\\\n",
       " <chr> & <dbl> & <dbl> & <dbl> & <dbl> & <dbl> & <dbl> & <dbl> & <dbl> & <dbl> & ⋯ & <dbl> & <dbl> & <dbl> & <dbl> & <dbl> & <dbl> & <dbl> & <dbl> & <dbl> & <dbl>\\\\\n",
       "\\hline\n",
       "\t ARHGEF10L &  0.02890753 & -1.352492 &  0.61200753 &  1.2865075 & -0.92129247 &  0.02260753 & -0.3741925 &  0.6400075 & -0.8533925 & ⋯ &  0.2163075 &  1.32490753 &  1.3583075 &  0.8795075 &  0.9590075 & -0.1939925 &  1.169907530 &  1.0210075 &  0.48590753 &  0.1981075\\\\\n",
       "\t HIF3A     &  3.69637366 & -3.196826 &  2.05677366 &  1.9492737 &  2.63017366 &  0.22177366 &  3.0663737 &  2.0123737 &  1.2174737 & ⋯ &  3.1317737 &  5.48117366 &  5.1950737 &  1.6137737 &  4.1935737 &  3.6297737 &  3.229973664 &  1.6477737 &  1.84657366 &  2.3579737\\\\\n",
       "\t RNF17     & -0.53103501 & -0.531035 & -0.53103501 & -0.5310350 & -0.53103501 & -0.53103501 & -0.5310350 & -0.5310350 &  0.1935650 & ⋯ & -0.5310350 & -0.53103501 & -0.5310350 & -0.5310350 & -0.5310350 & -0.5310350 & -0.531035006 & -0.5310350 & -0.53103501 & -0.5310350\\\\\n",
       "\t RNF10     &  0.18852801 & -1.512372 & -0.02367199 & -0.1480720 &  0.05832801 & -0.66997199 & -0.1533720 & -0.3115720 & -0.7232720 & ⋯ &  0.1300280 & -0.31197199 &  0.1906280 & -0.3231720 & -0.3719720 &  0.1967280 &  0.009428014 & -0.3518720 & -0.01367199 & -0.3961720\\\\\n",
       "\t RNF11     & -0.13947813 &  1.384022 &  0.73832187 &  0.4903219 & -0.14157813 &  0.06972187 &  0.8520219 &  0.3420219 &  1.0246219 & ⋯ &  0.3810219 & -0.04657813 &  0.7265219 &  0.3634219 &  0.5096219 &  0.5984219 &  0.204221865 &  0.4947219 &  0.30112187 &  0.4352219\\\\\n",
       "\t RNF13     &  0.73169009 &  2.262790 &  0.99539009 &  0.8592901 & -0.52660991 &  2.08519009 &  1.3606901 &  0.1306901 &  1.9210901 & ⋯ &  0.4186901 &  0.75179009 & -0.1164099 &  0.7756901 &  0.5791901 &  0.9342901 &  0.912790090 &  1.2942901 &  0.68959009 &  1.1663901\\\\\n",
       "\\end{tabular}\n"
      ],
      "text/markdown": [
       "\n",
       "A tibble: 6 × 173\n",
       "\n",
       "| sample &lt;chr&gt; | TCGA-27-1832-01 &lt;dbl&gt; | TCGA-27-1831-01 &lt;dbl&gt; | TCGA-28-5216-01 &lt;dbl&gt; | TCGA-16-0846-01 &lt;dbl&gt; | TCGA-28-5218-01 &lt;dbl&gt; | TCGA-06-0178-01 &lt;dbl&gt; | TCGA-06-0238-01 &lt;dbl&gt; | TCGA-06-0125-01 &lt;dbl&gt; | TCGA-06-0219-01 &lt;dbl&gt; | ⋯ ⋯ | TCGA-41-2571-01 &lt;dbl&gt; | TCGA-06-0129-01 &lt;dbl&gt; | TCGA-19-2625-01 &lt;dbl&gt; | TCGA-06-2565-01 &lt;dbl&gt; | TCGA-02-2485-01 &lt;dbl&gt; | TCGA-06-0210-01 &lt;dbl&gt; | TCGA-06-0210-02 &lt;dbl&gt; | TCGA-02-0047-01 &lt;dbl&gt; | TCGA-06-0750-01 &lt;dbl&gt; | TCGA-32-1982-01 &lt;dbl&gt; |\n",
       "|---|---|---|---|---|---|---|---|---|---|---|---|---|---|---|---|---|---|---|---|---|\n",
       "| ARHGEF10L |  0.02890753 | -1.352492 |  0.61200753 |  1.2865075 | -0.92129247 |  0.02260753 | -0.3741925 |  0.6400075 | -0.8533925 | ⋯ |  0.2163075 |  1.32490753 |  1.3583075 |  0.8795075 |  0.9590075 | -0.1939925 |  1.169907530 |  1.0210075 |  0.48590753 |  0.1981075 |\n",
       "| HIF3A     |  3.69637366 | -3.196826 |  2.05677366 |  1.9492737 |  2.63017366 |  0.22177366 |  3.0663737 |  2.0123737 |  1.2174737 | ⋯ |  3.1317737 |  5.48117366 |  5.1950737 |  1.6137737 |  4.1935737 |  3.6297737 |  3.229973664 |  1.6477737 |  1.84657366 |  2.3579737 |\n",
       "| RNF17     | -0.53103501 | -0.531035 | -0.53103501 | -0.5310350 | -0.53103501 | -0.53103501 | -0.5310350 | -0.5310350 |  0.1935650 | ⋯ | -0.5310350 | -0.53103501 | -0.5310350 | -0.5310350 | -0.5310350 | -0.5310350 | -0.531035006 | -0.5310350 | -0.53103501 | -0.5310350 |\n",
       "| RNF10     |  0.18852801 | -1.512372 | -0.02367199 | -0.1480720 |  0.05832801 | -0.66997199 | -0.1533720 | -0.3115720 | -0.7232720 | ⋯ |  0.1300280 | -0.31197199 |  0.1906280 | -0.3231720 | -0.3719720 |  0.1967280 |  0.009428014 | -0.3518720 | -0.01367199 | -0.3961720 |\n",
       "| RNF11     | -0.13947813 |  1.384022 |  0.73832187 |  0.4903219 | -0.14157813 |  0.06972187 |  0.8520219 |  0.3420219 |  1.0246219 | ⋯ |  0.3810219 | -0.04657813 |  0.7265219 |  0.3634219 |  0.5096219 |  0.5984219 |  0.204221865 |  0.4947219 |  0.30112187 |  0.4352219 |\n",
       "| RNF13     |  0.73169009 |  2.262790 |  0.99539009 |  0.8592901 | -0.52660991 |  2.08519009 |  1.3606901 |  0.1306901 |  1.9210901 | ⋯ |  0.4186901 |  0.75179009 | -0.1164099 |  0.7756901 |  0.5791901 |  0.9342901 |  0.912790090 |  1.2942901 |  0.68959009 |  1.1663901 |\n",
       "\n"
      ],
      "text/plain": [
       "  sample    TCGA-27-1832-01 TCGA-27-1831-01 TCGA-28-5216-01 TCGA-16-0846-01\n",
       "1 ARHGEF10L  0.02890753     -1.352492        0.61200753      1.2865075     \n",
       "2 HIF3A      3.69637366     -3.196826        2.05677366      1.9492737     \n",
       "3 RNF17     -0.53103501     -0.531035       -0.53103501     -0.5310350     \n",
       "4 RNF10      0.18852801     -1.512372       -0.02367199     -0.1480720     \n",
       "5 RNF11     -0.13947813      1.384022        0.73832187      0.4903219     \n",
       "6 RNF13      0.73169009      2.262790        0.99539009      0.8592901     \n",
       "  TCGA-28-5218-01 TCGA-06-0178-01 TCGA-06-0238-01 TCGA-06-0125-01\n",
       "1 -0.92129247      0.02260753     -0.3741925       0.6400075     \n",
       "2  2.63017366      0.22177366      3.0663737       2.0123737     \n",
       "3 -0.53103501     -0.53103501     -0.5310350      -0.5310350     \n",
       "4  0.05832801     -0.66997199     -0.1533720      -0.3115720     \n",
       "5 -0.14157813      0.06972187      0.8520219       0.3420219     \n",
       "6 -0.52660991      2.08519009      1.3606901       0.1306901     \n",
       "  TCGA-06-0219-01 ⋯ TCGA-41-2571-01 TCGA-06-0129-01 TCGA-19-2625-01\n",
       "1 -0.8533925      ⋯  0.2163075       1.32490753      1.3583075     \n",
       "2  1.2174737      ⋯  3.1317737       5.48117366      5.1950737     \n",
       "3  0.1935650      ⋯ -0.5310350      -0.53103501     -0.5310350     \n",
       "4 -0.7232720      ⋯  0.1300280      -0.31197199      0.1906280     \n",
       "5  1.0246219      ⋯  0.3810219      -0.04657813      0.7265219     \n",
       "6  1.9210901      ⋯  0.4186901       0.75179009     -0.1164099     \n",
       "  TCGA-06-2565-01 TCGA-02-2485-01 TCGA-06-0210-01 TCGA-06-0210-02\n",
       "1  0.8795075       0.9590075      -0.1939925       1.169907530   \n",
       "2  1.6137737       4.1935737       3.6297737       3.229973664   \n",
       "3 -0.5310350      -0.5310350      -0.5310350      -0.531035006   \n",
       "4 -0.3231720      -0.3719720       0.1967280       0.009428014   \n",
       "5  0.3634219       0.5096219       0.5984219       0.204221865   \n",
       "6  0.7756901       0.5791901       0.9342901       0.912790090   \n",
       "  TCGA-02-0047-01 TCGA-06-0750-01 TCGA-32-1982-01\n",
       "1  1.0210075       0.48590753      0.1981075     \n",
       "2  1.6477737       1.84657366      2.3579737     \n",
       "3 -0.5310350      -0.53103501     -0.5310350     \n",
       "4 -0.3518720      -0.01367199     -0.3961720     \n",
       "5  0.4947219       0.30112187      0.4352219     \n",
       "6  1.2942901       0.68959009      1.1663901     "
      ]
     },
     "metadata": {},
     "output_type": "display_data"
    }
   ],
   "source": [
    "head(df_gbm_op3)"
   ]
  },
  {
   "cell_type": "markdown",
   "id": "e159d8a9-bd87-4b04-accb-f44f48da8906",
   "metadata": {},
   "source": [
    "## 1.3 direct download from Xena\n",
    "[demo webpage](https://xenabrowser.net/datapages/?dataset=TCGA.CHOL.sampleMap%2FHiSeqV2&host=https%3A%2F%2Ftcga.xenahubs.net&removeHub=https%3A%2F%2Fxena.treehouse.gi.ucsc.edu%3A443)"
   ]
  },
  {
   "cell_type": "code",
   "execution_count": null,
   "id": "3bfeb010-ac39-4356-a2f6-12f361a5df4a",
   "metadata": {},
   "outputs": [],
   "source": [
    "#file = 'https://raw.githubusercontent.com/yenhsieh/LSL_2022/main/data/TCGA_CHOL_RNAseq'\n",
    "file_url = 'https://tcga-xena-hub.s3.us-east-1.amazonaws.com/download/TCGA.CHOL.sampleMap%2FHiSeqV2.gz'\n",
    "data = read_delim(file_url, delim = '\\t')\n",
    "head(data)"
   ]
  },
  {
   "cell_type": "markdown",
   "id": "47e1906d-26d4-493f-a54d-d32d9f518a34",
   "metadata": {},
   "source": [
    "# 2. Differential expression and gene set enrichment analysis\n",
    "Over-representation analysis (ORA) is a statistical method to determine if a\n",
    "geneset (e.g. pathway from KEGG) is over-representated regarding our own gene\n",
    "list, e.g. differentially expressed genes (DEGs) between treated/untreated group\n",
    "which are selected by a significance level cutoff. Gene set richment analysis\n",
    "(GSEA) is a soft version of ORA whereas DEGs are rather than selected but ranked\n",
    "by the fold change accordingly as GSEA input, which unlike ORA's strong limitation for large difference gene list but detect situations where all genes in a predefined gene set change in a small but coordinated way.\n",
    "DEG can be identified through various methods/packages (e.g. DESeq2,\n",
    "edgeR, etc) with individual's pros & cons and here we will start from using *limma-voom* from *edgeR* for DEG for further ORA and GSEA using *clusterProfiler* package.\n",
    "> *clusterProfiler* is a R package which provide a various accession to a list of well-known annotation databases, e.g. KEGG, Reactome, Wiki Pathways. Apart from these annotation collected, it is also capable for both semantic similarity and functional enrichment analysis with a friendly and tidy fashion for biologist without command line tool experience to access, analyze and visualize their results. According to official document, genomic coordinates, gene and gene cluster are supported as input format. [(source)](https://bioconductor.org/packages/release/bioc/vignettes/clusterProfiler/inst/doc/clusterProfiler.html)"
   ]
  },
  {
   "cell_type": "markdown",
   "id": "cc287f89-bd68-4d15-a105-9964a8e8f00d",
   "metadata": {},
   "source": [
    "## 2.1. data retrieval and pre-process \n",
    "To demonstrate the workflow of DEG, here we start from downloding bladder cancer's gene expression data from Xena as example. With the input format (a _n*m numeric matrix_ object whereas columns are samples and rows are genomic features) as suggested by *edgeR* document, you may prepare the input beyond this cancer data example.\n",
    "[(data source)](https://xenabrowser.net/datapages/?dataset=TCGA.BLCA.sampleMap%2FHiSeqV2&host=https%3A%2F%2Ftcga.xenahubs.net&removeHub=https%3A%2F%2Fxena.treehouse.gi.ucsc.edu%3A443)"
   ]
  },
  {
   "cell_type": "markdown",
   "id": "f3b8d576-094a-4c19-b3b2-8d5699ce9dea",
   "metadata": {},
   "source": [
    "### 2.1.1. data retrieval"
   ]
  },
  {
   "cell_type": "code",
   "execution_count": null,
   "id": "7845be75-b119-4309-9975-d0016edc95ba",
   "metadata": {},
   "outputs": [],
   "source": [
    "dataID = 'TCGA.BLCA.sampleMap/HiSeqV2$'\n",
    "df_exp =\n",
    "    XenaGenerate() %>% \n",
    "    XenaFilter(filterDatasets = dataID) %>%\n",
    "    XenaQuery() %>%\n",
    "    #XenaDownload(force = F, destdir = \"C:/Users/YHC/Documents\") %>% # Windows System\n",
    "    XenaDownload(force = F) %>% \n",
    "    XenaPrepare() %>%\n",
    "    dplyr::rename('gene'='sample')"
   ]
  },
  {
   "cell_type": "markdown",
   "id": "f02699fa-d139-4091-aae6-f37efdb40cdc",
   "metadata": {},
   "source": [
    "### 2.1.2. data preprocess"
   ]
  },
  {
   "cell_type": "markdown",
   "id": "dc8febe1-493c-464a-83a6-a238129abae4",
   "metadata": {},
   "source": [
    "#### data conversion (data-dependent)"
   ]
  },
  {
   "cell_type": "markdown",
   "id": "71612867-6e6e-4eee-99b0-504f229e1f18",
   "metadata": {},
   "source": [
    "Considering the unit from Xena is **log2(norm_count+1)**, here we reverse expected_count to original count and take the nearest integer and you may find the difference below."
   ]
  },
  {
   "cell_type": "code",
   "execution_count": null,
   "id": "e3df7943-ad1b-4073-a268-dc16493ac66c",
   "metadata": {},
   "outputs": [],
   "source": [
    "df_exp_new = \n",
    "    df_exp %>% \n",
    "    mutate_if(is.numeric, function(x){round(2^x-1, digits = 0)})"
   ]
  },
  {
   "cell_type": "code",
   "execution_count": null,
   "id": "8827336f-7081-4359-930c-9fbab55048fb",
   "metadata": {},
   "outputs": [],
   "source": [
    "head(df_exp)"
   ]
  },
  {
   "cell_type": "code",
   "execution_count": null,
   "id": "1c195e83-13fb-48cd-a399-f0279f315269",
   "metadata": {},
   "outputs": [],
   "source": [
    "head(df_exp_new)"
   ]
  },
  {
   "cell_type": "markdown",
   "id": "03297145-f0f9-4541-9d16-cdbfcb54a0c2",
   "metadata": {},
   "source": [
    "In order to confirm the input having any missing data, genes having all zero count, and correct format (i.e. *matrix*) for followed-up analysis, data wrangling are required."
   ]
  },
  {
   "cell_type": "markdown",
   "id": "3398f267-b4b5-47d1-b788-1876dd4549e1",
   "metadata": {},
   "source": [
    "#### checking NA values"
   ]
  },
  {
   "cell_type": "code",
   "execution_count": null,
   "id": "bd067724-f28a-43a4-b611-edafad6489e6",
   "metadata": {},
   "outputs": [],
   "source": [
    "# Check if missing value exist and convert dataframe into matrix format\n",
    "df_exp_new %>% \n",
    "    select_if(is.numeric) %>% # select numeric columns\n",
    "    as.matrix() %>% {.->>m_exp} %>% # convert to matrix\n",
    "    as.vector() %>% # convert 2D matrix as 1D array\n",
    "    is.na() %>% # check if NA\n",
    "    sum() # NA count"
   ]
  },
  {
   "cell_type": "markdown",
   "id": "b26bea5e-d68f-4be9-b279-7b7a707a55a9",
   "metadata": {},
   "source": [
    "#### design matrix annotation"
   ]
  },
  {
   "cell_type": "code",
   "execution_count": null,
   "id": "7df0bb07-8257-4da2-a924-98d86b1e3556",
   "metadata": {},
   "outputs": [],
   "source": [
    "# convert input as matrix and add row names\n",
    "row.names(m_exp) = df_exp_new$gene\n",
    "m_exp[1:6, 1:5]"
   ]
  },
  {
   "cell_type": "markdown",
   "id": "2a51823c-18a8-4916-81bf-72ae550ff96a",
   "metadata": {},
   "source": [
    "#### removal of rows with all zeros"
   ]
  },
  {
   "cell_type": "code",
   "execution_count": null,
   "id": "6df312c0-9206-4e9a-8536-67a7edae9baf",
   "metadata": {},
   "outputs": [],
   "source": [
    "# identify rows with all zero\n",
    "all_zero = map_lgl(1:nrow(m_exp), function(i){ sum(m_exp[i,] == 0) == ncol(m_exp)})\n",
    "table(all_zero)"
   ]
  },
  {
   "cell_type": "code",
   "execution_count": null,
   "id": "b380c9ec-a31d-4e94-841b-fa7c4e2f37a8",
   "metadata": {},
   "outputs": [],
   "source": [
    "# retain rows not all zero\n",
    "m_exp_new = m_exp[-which(all_zero == TRUE),]\n",
    "\n",
    "dim(m_exp)\n",
    "dim(m_exp_new)"
   ]
  },
  {
   "cell_type": "markdown",
   "id": "d09a0322-46a8-4437-bd70-1d9dca27d027",
   "metadata": {},
   "source": [
    "As indicated, some rows (genes) are having all patients with no expression count hence will be removed."
   ]
  },
  {
   "cell_type": "markdown",
   "id": "37498b7e-ca22-446e-a240-43412e81de34",
   "metadata": {},
   "source": [
    "#### sample group annotation\n",
    "Sample group annotation is required since the main object for this analysis is to distinguish the difference between two groups and here TCGA samples will be classified as tumor or adjacent by the barcode accordingly."
   ]
  },
  {
   "cell_type": "code",
   "execution_count": null,
   "id": "b5a4a225-8057-46ec-8b76-519c861df0da",
   "metadata": {},
   "outputs": [],
   "source": [
    "sample_class = map_chr(colnames(m_exp_new), function(x){\n",
    "        ifelse(str_sub(x, 14,14)=='0', yes = 'tumor', no = 'adjNormal')\n",
    "    }) %>% factor()\n",
    "\n",
    "table(sample_class)"
   ]
  },
  {
   "cell_type": "markdown",
   "id": "4e9a50bf-f5a3-4d32-8848-0f7c2ebb6272",
   "metadata": {},
   "source": [
    "Patient data collected by TCGA are labeled with its own [barcode system](https://docs.gdc.cancer.gov/Encyclopedia/pages/TCGA_Barcode/), which a dataset may composed of tumor and adjacent normal samples. Whether if the sample is tumor(*0*) or adjacent normal(*1*) could be defined by the 14th position of the barcode. With all these process, our data is ready for differential gene expression analysis.\n",
    "\n",
    "[(barcode table)]((https://gdc.cancer.gov/resources-tcga-users/tcga-code-tables/sample-type-codes))"
   ]
  },
  {
   "cell_type": "markdown",
   "id": "f94f2c0c-5d19-4d9e-b8bb-df17caab0977",
   "metadata": {},
   "source": [
    "## 2.2. DEG by limma-voom"
   ]
  },
  {
   "cell_type": "markdown",
   "id": "e2a25476-c899-45e5-854a-e6cf33ee8e81",
   "metadata": {},
   "source": [
    "### 2.2.1. normalization"
   ]
  },
  {
   "cell_type": "code",
   "execution_count": null,
   "id": "4140d52e-13c9-4f1c-9f16-f95012188446",
   "metadata": {},
   "outputs": [],
   "source": [
    "library(edgeR)\n",
    "# quantile normalization\n",
    "y = normalizeQuantiles(m_exp_new)"
   ]
  },
  {
   "cell_type": "markdown",
   "id": "d33fce1f-accb-4a8a-a5ed-8ee36c4b51e6",
   "metadata": {},
   "source": [
    "### 2.2.2. count/sample filter\n",
    "With the setting of desired cutoff, genes with low-expressed count and expressed in small size samples would be neglected. The difference of before/after this procedure could be visualized via Voom variance plot, whereas each dot in the figure represents a gene and also the mean-variance relationship of included genes in the dataset. The main purpose of this plot is to identify if low counts genes have been filtered and if lots of variation in the data exist. The cutoff setting is data-dependent."
   ]
  },
  {
   "cell_type": "code",
   "execution_count": null,
   "id": "579d0fcf-d8cf-4fff-bcf2-c2db7b6d061c",
   "metadata": {},
   "outputs": [],
   "source": [
    "# cutoff setting\n",
    "cutoff_count = 10\n",
    "cutoff_sample = 20\n",
    "\n",
    "genes_keep = rowSums(y > cutoff_count) >= cutoff_sample\n",
    "table(genes_keep)"
   ]
  },
  {
   "cell_type": "markdown",
   "id": "33e191f6-97a3-4d79-84ab-508c3ac99095",
   "metadata": {},
   "source": [
    "### 2.2.3. intepretation via Voom variance plot"
   ]
  },
  {
   "cell_type": "code",
   "execution_count": null,
   "id": "a8f40fd1-8c7e-45de-9222-d40ac699d2b8",
   "metadata": {},
   "outputs": [],
   "source": [
    "design = model.matrix(~0 + sample_class)\n",
    "colnames(design) = c(\"adjNormal\",\"tumor\")\n",
    "head(design)"
   ]
  },
  {
   "cell_type": "code",
   "execution_count": null,
   "id": "79a6f1c5-081f-479a-9d6b-e04c05c72b63",
   "metadata": {},
   "outputs": [],
   "source": [
    "bef = voom(y, design, plot = T)"
   ]
  },
  {
   "cell_type": "code",
   "execution_count": null,
   "id": "3ed637ae-fc6c-4957-9467-91debedcd0cd",
   "metadata": {},
   "outputs": [],
   "source": [
    "y_after = y[keep,]\n",
    "aft = voom(y_after, design, plot = T)"
   ]
  },
  {
   "cell_type": "markdown",
   "id": "714809fb-6168-45d6-9332-5acce536d234",
   "metadata": {},
   "source": [
    "### 2.2.4. model fitting"
   ]
  },
  {
   "cell_type": "code",
   "execution_count": null,
   "id": "8f43269e-d4fa-4abc-8ada-67841c14ad90",
   "metadata": {},
   "outputs": [],
   "source": [
    "contrast = makeContrasts(tumor-adjNormal, levels=design)\n",
    "contrast"
   ]
  },
  {
   "cell_type": "code",
   "execution_count": null,
   "id": "451db153-e8cb-4588-9626-6ea25ed1379c",
   "metadata": {},
   "outputs": [],
   "source": [
    "fit = lmFit(y_after, design)\n",
    "fitC = contrasts.fit(fit,contrast.matrix)\n",
    "fitC = eBayes(fitC,robust=TRUE,trend=TRUE)\n",
    "summary(decideTests(fitC))"
   ]
  },
  {
   "cell_type": "code",
   "execution_count": null,
   "id": "e518e7bf-3d1a-4a64-821e-1a04e6de3aa0",
   "metadata": {},
   "outputs": [],
   "source": [
    "# fitting result table\n",
    "tab_deg = \n",
    "    topTable(fitC,adjust=\"BH\",n=Inf) %>% \n",
    "    na.omit() %>%\n",
    "    rownames_to_column('gene') %>%\n",
    "    as_tibble() %>%\n",
    "    dplyr::select(gene, everything())\n",
    "\n",
    "dim(tab_deg)\n",
    "head(tab_deg)"
   ]
  },
  {
   "cell_type": "code",
   "execution_count": null,
   "id": "21e6e461-8832-4d00-ac27-791ba991033b",
   "metadata": {},
   "outputs": [],
   "source": [
    "# retain significant DEGs\n",
    "sig_deg = filter(tab_deg, abs(logFC)>0.5 & tab$adj.P.Val < 0.05)\n",
    "dim(sig_deg)"
   ]
  },
  {
   "cell_type": "code",
   "execution_count": null,
   "id": "3d00df80-1863-4081-9478-2d23cd8f4f9b",
   "metadata": {},
   "outputs": [],
   "source": [
    "deg_up = filter(sig_deg, logFC > 1) %>% arrange(desc(logFC))\n",
    "deg_up = filter(sig_deg, logFC < -1) %>% arrange(desc(logFC))\n",
    "#DEG_table_up = filter(DEG_table, P.Value <= 0.05, logFC > 1) %>% arrange(desc(logFC))\n",
    "#DEG_table_dn = filter(DEG_table, P.Value <= 0.05, logFC < -1) %>% arrange(desc(logFC))"
   ]
  },
  {
   "cell_type": "markdown",
   "id": "250f6de9-4da7-4a1a-b1bf-18018740fc55",
   "metadata": {},
   "source": [
    "## 2.3. geneset/pathway analysis\n",
    "The main object of geneset/pathway analysis is to determines if a pre-defined sets, pathways collected from KEGG or Gene Ontology, are over-represented in a subset of user data beyond expected. For instance, given a geneset composed of 100 genes (e.g. liver cancer-specific pathway) and a knockout experiment with 500 DEGs while 90 of them are in the geneset, then the geneset is highly over/under-represented in the experiment. Above mentioned is the straightforward concept of conventional over-representation analysis (ORA) and followed by statistical tests such as the cumulative hyper-geometric test, significance of the overlapping could be calculated and filtered by cutoff (e.g. p-value 0.05) to select the annotated genesets. \n",
    "\n",
    "Unlike ORA, Gene Set Enrichment Analysis (GSEA) ranks all genes in the genome to eliminate the need of cutoff as ORA (e.g. fold change) to define the input gene set. With such ranking, e.g. level of differential expression, genesets are expected as high or low via running-sum statistic."
   ]
  },
  {
   "cell_type": "code",
   "execution_count": null,
   "id": "72f53371-4112-40d7-811c-12de9968ebb2",
   "metadata": {},
   "outputs": [],
   "source": [
    "library(org.Hs.eg.db)\n",
    "library(clusterProfiler)\n",
    "library(enrichplot)"
   ]
  },
  {
   "cell_type": "markdown",
   "id": "8fd75c08-d9eb-472a-a981-d333bc567709",
   "metadata": {},
   "source": [
    "### 2.3.1. ORA analysis and visualization\n",
    "Here we take up-regulated DEGs to determine the enrichment result in the Biological Process category of Gene Ontology and also several visualization presentation. "
   ]
  },
  {
   "cell_type": "code",
   "execution_count": null,
   "id": "6e380d5d-fa4e-46bd-8171-c520dd6aa423",
   "metadata": {},
   "outputs": [],
   "source": [
    "geneList_up = deg_up$logFC %>% setNames(deg_up$gene)\n",
    "\n",
    "DEG_ora_up = enrichGO(\n",
    "    gene = names(geneList_up),\n",
    "    OrgDb = org.Hs.eg.db,\n",
    "    keyType=\"SYMBOL\",\n",
    "    ont = \"BP\",\n",
    "    pAdjustMethod = \"BH\")"
   ]
  },
  {
   "cell_type": "code",
   "execution_count": null,
   "id": "024b46f4-b9e9-43ef-9250-62914e14e4c0",
   "metadata": {},
   "outputs": [],
   "source": [
    "DEG_ora_up"
   ]
  },
  {
   "cell_type": "markdown",
   "id": "3b0efc30-94b0-446e-a0c0-1689a3a23d04",
   "metadata": {},
   "source": [
    "#### dot plot display"
   ]
  },
  {
   "cell_type": "code",
   "execution_count": null,
   "id": "30f81274-47be-431d-82d0-9ef80589effe",
   "metadata": {},
   "outputs": [],
   "source": [
    "dotplot(DEG_ora_up, showCategory = 20) + \n",
    "    labs(title = \"Dot plot\") +\n",
    "    theme_bw() +\n",
    "    theme(\n",
    "        plot.title = element_text(face = 'bold', size = 20),\n",
    "        axis.text = element_text(size = 15),\n",
    "        axis.title = element_text(size = 18)\n",
    "    )"
   ]
  },
  {
   "cell_type": "markdown",
   "id": "8987cbcb-b9ac-4500-8609-4be1db3188be",
   "metadata": {},
   "source": [
    "#### enrichment map display"
   ]
  },
  {
   "cell_type": "code",
   "execution_count": null,
   "id": "9d2dce96-c425-4e61-a31c-f62eea5340aa",
   "metadata": {},
   "outputs": [],
   "source": [
    "DEG_ora_up %>%\n",
    "    pairwise_termsim() %>%\n",
    "    emapplot(layout = 'kk', cex_category = 1.5) +\n",
    "    labs(title = 'Enrichment map') +\n",
    "    theme(plot.title = element_text(size = 18, face = 'bold'))"
   ]
  },
  {
   "cell_type": "markdown",
   "id": "448442da-9c3a-4b5c-96ce-f36b3fb2236a",
   "metadata": {},
   "source": [
    "### 2.3.2. GSEA analysis and visualization\n",
    "Here again we take up-regulated DEGs to determine the GSEA result in the Biological Process category of Gene Ontology and also several visualization presentation. The visualization methods are interchangable with previous ORA section."
   ]
  },
  {
   "cell_type": "code",
   "execution_count": null,
   "id": "04db5289-130d-4155-94d5-4920ad0a8802",
   "metadata": {},
   "outputs": [],
   "source": [
    "DEG_gsea_up = gseGO(\n",
    "    gene = geneList_up,\n",
    "    OrgDb = org.Hs.eg.db,\n",
    "    keyType=\"SYMBOL\",\n",
    "    ont = \"BP\",\n",
    "    pAdjustMethod = \"BH\")"
   ]
  },
  {
   "cell_type": "code",
   "execution_count": null,
   "id": "8f2c4b26-2a72-4a1b-a80b-f70638d7633e",
   "metadata": {},
   "outputs": [],
   "source": [
    "DEG_gsea_up"
   ]
  },
  {
   "cell_type": "markdown",
   "id": "a8a53292-398d-424a-812c-1891657249ba",
   "metadata": {},
   "source": [
    "#### concept map display"
   ]
  },
  {
   "cell_type": "code",
   "execution_count": null,
   "id": "57a7698c-d92e-419f-96fb-b5f8c059b782",
   "metadata": {},
   "outputs": [],
   "source": [
    "enrichplot::cnetplot(DEG_gsea_up, foldChange = geneList_up) +\n",
    "    scale_color_viridis_c() + \n",
    "    labs(color = 'Fold\\nChange', title = 'Concept network') +\n",
    "    theme_void() +\n",
    "    theme(plot.title = element_text(face = 'bold', size = 24))"
   ]
  },
  {
   "cell_type": "markdown",
   "id": "98a95a68-d55f-4cdf-a202-137462561c83",
   "metadata": {},
   "source": [
    "#### single/multiple geneset visualization"
   ]
  },
  {
   "cell_type": "code",
   "execution_count": null,
   "id": "6287c580-d677-4949-9c77-d1dcf60ea85a",
   "metadata": {},
   "outputs": [],
   "source": [
    "as_tibble(DEG_gsea_up@result)"
   ]
  },
  {
   "cell_type": "code",
   "execution_count": null,
   "id": "5e37d74c-4071-45a6-8586-2c585f63df01",
   "metadata": {},
   "outputs": [],
   "source": [
    "term_of_interest = 'muscle'\n",
    "idx = grep(DEG_gsea_up@result$Description, pattern = term_of_interest, value = F, ignore.case = T)\n",
    "grep(DEG_gsea_up@result$Description, pattern = term_of_interest, value = T, ignore.case = T)"
   ]
  },
  {
   "cell_type": "code",
   "execution_count": null,
   "id": "49dedf30-dd27-4ba4-aec4-546514fb48f1",
   "metadata": {},
   "outputs": [],
   "source": [
    "gseaplot2(DEG_gsea_up, geneSetID = idx)"
   ]
  },
  {
   "cell_type": "code",
   "execution_count": null,
   "id": "770e2241-c573-4185-a291-607e7f944176",
   "metadata": {},
   "outputs": [],
   "source": [
    "ggpubr::ggarrange(\n",
    "    gseaplot(DEG_gsea_up, geneSetID = 1, by = 'runningScore', title = DEG_gsea_up@result$Description[1]) + \n",
    "        theme_classic(),\n",
    "    gseaplot(DEG_gsea_up, geneSetID = 1, by = 'preranked') + \n",
    "        theme_classic(),\n",
    "    ncol =1, nrow = 2)"
   ]
  },
  {
   "cell_type": "code",
   "execution_count": null,
   "id": "4a556932-eb5d-4e8b-91b5-ec78e95a933f",
   "metadata": {},
   "outputs": [],
   "source": []
  }
 ],
 "metadata": {
  "kernelspec": {
   "display_name": "R",
   "language": "R",
   "name": "ir"
  },
  "language_info": {
   "codemirror_mode": "r",
   "file_extension": ".r",
   "mimetype": "text/x-r-source",
   "name": "R",
   "pygments_lexer": "r",
   "version": "4.0.0"
  },
  "toc-autonumbering": false
 },
 "nbformat": 4,
 "nbformat_minor": 5
}
