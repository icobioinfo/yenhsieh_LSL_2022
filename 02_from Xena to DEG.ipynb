{
 "cells": [
  {
   "cell_type": "markdown",
   "id": "3bb1ba10-c996-4f62-ae24-8718ee9be17e",
   "metadata": {},
   "source": [
    "# Outline"
   ]
  },
  {
   "cell_type": "markdown",
   "id": "dd71bf54-4fe6-4201-961c-fe490f422c05",
   "metadata": {},
   "source": [
    "# 1. Cancer omic resources"
   ]
  },
  {
   "cell_type": "markdown",
   "id": "8424dc00-c7cb-48b4-9165-d00117e430b4",
   "metadata": {},
   "source": [
    "## 1.1. Xena"
   ]
  },
  {
   "cell_type": "markdown",
   "id": "2398fe1f-8f48-4ae3-a627-176a86a1fafd",
   "metadata": {},
   "source": [
    "### 1.1.1. Xena overview"
   ]
  },
  {
   "cell_type": "markdown",
   "id": "e139a744-dd83-4455-be05-9504d2f8d1a3",
   "metadata": {
    "tags": []
   },
   "source": [
    "### 1.1.2. access Xena via R"
   ]
  },
  {
   "cell_type": "code",
   "execution_count": 1,
   "id": "2a9c98cf-95ec-493c-b0c4-4bd0527ab5de",
   "metadata": {},
   "outputs": [
    {
     "name": "stderr",
     "output_type": "stream",
     "text": [
      "Warning message:\n",
      "“package ‘tidyverse’ was built under R version 4.0.3”\n",
      "─ \u001b[1mAttaching packages\u001b[22m ──────────────────────────── tidyverse 1.3.1 ─\n",
      "\n",
      "\u001b[32m✔\u001b[39m \u001b[34mggplot2\u001b[39m 3.3.5     \u001b[32m✔\u001b[39m \u001b[34mpurrr  \u001b[39m 0.3.4\n",
      "\u001b[32m✔\u001b[39m \u001b[34mtibble \u001b[39m 3.1.3     \u001b[32m✔\u001b[39m \u001b[34mdplyr  \u001b[39m 1.0.7\n",
      "\u001b[32m✔\u001b[39m \u001b[34mtidyr  \u001b[39m 1.1.3     \u001b[32m✔\u001b[39m \u001b[34mstringr\u001b[39m 1.4.0\n",
      "\u001b[32m✔\u001b[39m \u001b[34mreadr  \u001b[39m 1.4.0     \u001b[32m✔\u001b[39m \u001b[34mforcats\u001b[39m 0.5.1\n",
      "\n",
      "Warning message:\n",
      "“package ‘ggplot2’ was built under R version 4.0.5”\n",
      "Warning message:\n",
      "“package ‘tibble’ was built under R version 4.0.5”\n",
      "Warning message:\n",
      "“package ‘tidyr’ was built under R version 4.0.3”\n",
      "Warning message:\n",
      "“package ‘readr’ was built under R version 4.0.5”\n",
      "Warning message:\n",
      "“package ‘purrr’ was built under R version 4.0.3”\n",
      "Warning message:\n",
      "“package ‘dplyr’ was built under R version 4.0.5”\n",
      "Warning message:\n",
      "“package ‘stringr’ was built under R version 4.0.5”\n",
      "Warning message:\n",
      "“package ‘forcats’ was built under R version 4.0.3”\n",
      "─ \u001b[1mConflicts\u001b[22m ───────────────────────────── tidyverse_conflicts() ─\n",
      "\u001b[31m✖\u001b[39m \u001b[34mdplyr\u001b[39m::\u001b[32mfilter()\u001b[39m masks \u001b[34mstats\u001b[39m::filter()\n",
      "\u001b[31m✖\u001b[39m \u001b[34mdplyr\u001b[39m::\u001b[32mlag()\u001b[39m    masks \u001b[34mstats\u001b[39m::lag()\n",
      "\n",
      "Warning message:\n",
      "“package ‘UCSCXenaTools’ was built under R version 4.0.5”\n",
      "=========================================================================================\n",
      "UCSCXenaTools version 1.4.6\n",
      "Project URL: https://github.com/ropensci/UCSCXenaTools\n",
      "Usages: https://cran.r-project.org/web/packages/UCSCXenaTools/vignettes/USCSXenaTools.html\n",
      "\n",
      "If you use it in published research, please cite:\n",
      "Wang et al., (2019). The UCSCXenaTools R package: a toolkit for accessing genomics data\n",
      "  from UCSC Xena platform, from cancer multi-omics to single-cell RNA-seq.\n",
      "  Journal of Open Source Software, 4(40), 1627, https://doi.org/10.21105/joss.01627\n",
      "=========================================================================================\n",
      "                              --Enjoy it--\n",
      "\n"
     ]
    },
    {
     "data": {
      "text/html": [
       "<table class=\"dataframe\">\n",
       "<caption>A tibble: 6 × 17</caption>\n",
       "<thead>\n",
       "\t<tr><th scope=col>XenaHosts</th><th scope=col>XenaHostNames</th><th scope=col>XenaCohorts</th><th scope=col>XenaDatasets</th><th scope=col>SampleCount</th><th scope=col>DataSubtype</th><th scope=col>Label</th><th scope=col>Type</th><th scope=col>AnatomicalOrigin</th><th scope=col>SampleType</th><th scope=col>Tags</th><th scope=col>ProbeMap</th><th scope=col>LongTitle</th><th scope=col>Citation</th><th scope=col>Version</th><th scope=col>Unit</th><th scope=col>Platform</th></tr>\n",
       "\t<tr><th scope=col>&lt;chr&gt;</th><th scope=col>&lt;chr&gt;</th><th scope=col>&lt;chr&gt;</th><th scope=col>&lt;chr&gt;</th><th scope=col>&lt;int&gt;</th><th scope=col>&lt;chr&gt;</th><th scope=col>&lt;chr&gt;</th><th scope=col>&lt;chr&gt;</th><th scope=col>&lt;chr&gt;</th><th scope=col>&lt;chr&gt;</th><th scope=col>&lt;chr&gt;</th><th scope=col>&lt;chr&gt;</th><th scope=col>&lt;chr&gt;</th><th scope=col>&lt;chr&gt;</th><th scope=col>&lt;chr&gt;</th><th scope=col>&lt;chr&gt;</th><th scope=col>&lt;chr&gt;</th></tr>\n",
       "</thead>\n",
       "<tbody>\n",
       "\t<tr><td>https://ucscpublic.xenahubs.net</td><td>publicHub</td><td>Breast Cancer Cell Lines (Neve 2006)</td><td>ucsfNeve_public/ucsfNeveExp_genomicMatrix               </td><td> 51</td><td>gene expression</td><td>Neve Cell Line gene expression</td><td>genomicMatrix </td><td>Breast</td><td>cell line</td><td>cell lines,breast cancer</td><td>probeMap/affyU133_ucscGenomeBrowser_hg18.probeMap</td><td>Cell Line Gene Expression (Neve et al. Cancer Cell 2006)</td><td>Cancer Cell. 2006 Dec;10(6):515-27.                 </td><td>2011-11-01</td><td>NA</td><td>NA</td></tr>\n",
       "\t<tr><td>https://ucscpublic.xenahubs.net</td><td>publicHub</td><td>Breast Cancer Cell Lines (Neve 2006)</td><td>ucsfNeve_public/ucsfNeve_public_clinicalMatrix          </td><td> 57</td><td>phenotype      </td><td>Phenotypes                    </td><td>clinicalMatrix</td><td>      </td><td>         </td><td>cancer                  </td><td>NA                                               </td><td>NA                                                      </td><td>NA                                                  </td><td>2011-11-11</td><td>NA</td><td>NA</td></tr>\n",
       "\t<tr><td>https://ucscpublic.xenahubs.net</td><td>publicHub</td><td>Glioma (Kotliarov 2006)             </td><td>kotliarov2006_public/kotliarov2006_genomicMatrix        </td><td>194</td><td>copy number    </td><td>Kotliarov Glioma CGH          </td><td>genomicMatrix </td><td>Brain </td><td>tumor    </td><td>cancer,neural           </td><td>probeMap/probesAffy100K                          </td><td>Glioma CGH (Kotliarov et al. 2006)                      </td><td>Cancer Res. 2006 Oct 1;66(19):9428-36.              </td><td>2011-11-01</td><td>NA</td><td>NA</td></tr>\n",
       "\t<tr><td>https://ucscpublic.xenahubs.net</td><td>publicHub</td><td>Glioma (Kotliarov 2006)             </td><td>kotliarov2006_public/kotliarov2006_public_clinicalMatrix</td><td>194</td><td>phenotype      </td><td>Phenotypes                    </td><td>clinicalMatrix</td><td>      </td><td>         </td><td>cancer                  </td><td>NA                                               </td><td>NA                                                      </td><td>NA                                                  </td><td>2011-11-11</td><td>NA</td><td>NA</td></tr>\n",
       "\t<tr><td>https://ucscpublic.xenahubs.net</td><td>publicHub</td><td>Lung Cancer CGH (Weir 2007)         </td><td>weir2007_public/weir2007_genomicMatrix                  </td><td>383</td><td>copy number    </td><td>CGH                           </td><td>genomicMatrix </td><td>Lung  </td><td>tumor    </td><td>cancer                  </td><td>probeMap/probeAffy500K                           </td><td>Lung CGH (Weir et al. 2007)                             </td><td>Nature. 2007 Dec 6;450(7171):893-8. Epub 2007 Nov 4.</td><td>2011-11-01</td><td>NA</td><td>NA</td></tr>\n",
       "\t<tr><td>https://ucscpublic.xenahubs.net</td><td>publicHub</td><td>Lung Cancer CGH (Weir 2007)         </td><td>weir2007_public/weir2007_public_clinicalMatrix          </td><td>383</td><td>phenotype      </td><td>Phenotypes                    </td><td>clinicalMatrix</td><td>      </td><td>         </td><td>cancer                  </td><td>NA                                               </td><td>NA                                                      </td><td>NA                                                  </td><td>2011-11-11</td><td>NA</td><td>NA</td></tr>\n",
       "</tbody>\n",
       "</table>\n"
      ],
      "text/latex": [
       "A tibble: 6 × 17\n",
       "\\begin{tabular}{lllllllllllllllll}\n",
       " XenaHosts & XenaHostNames & XenaCohorts & XenaDatasets & SampleCount & DataSubtype & Label & Type & AnatomicalOrigin & SampleType & Tags & ProbeMap & LongTitle & Citation & Version & Unit & Platform\\\\\n",
       " <chr> & <chr> & <chr> & <chr> & <int> & <chr> & <chr> & <chr> & <chr> & <chr> & <chr> & <chr> & <chr> & <chr> & <chr> & <chr> & <chr>\\\\\n",
       "\\hline\n",
       "\t https://ucscpublic.xenahubs.net & publicHub & Breast Cancer Cell Lines (Neve 2006) & ucsfNeve\\_public/ucsfNeveExp\\_genomicMatrix                &  51 & gene expression & Neve Cell Line gene expression & genomicMatrix  & Breast & cell line & cell lines,breast cancer & probeMap/affyU133\\_ucscGenomeBrowser\\_hg18.probeMap & Cell Line Gene Expression (Neve et al. Cancer Cell 2006) & Cancer Cell. 2006 Dec;10(6):515-27.                  & 2011-11-01 & NA & NA\\\\\n",
       "\t https://ucscpublic.xenahubs.net & publicHub & Breast Cancer Cell Lines (Neve 2006) & ucsfNeve\\_public/ucsfNeve\\_public\\_clinicalMatrix           &  57 & phenotype       & Phenotypes                     & clinicalMatrix &        &           & cancer                   & NA                                                & NA                                                       & NA                                                   & 2011-11-11 & NA & NA\\\\\n",
       "\t https://ucscpublic.xenahubs.net & publicHub & Glioma (Kotliarov 2006)              & kotliarov2006\\_public/kotliarov2006\\_genomicMatrix         & 194 & copy number     & Kotliarov Glioma CGH           & genomicMatrix  & Brain  & tumor     & cancer,neural            & probeMap/probesAffy100K                           & Glioma CGH (Kotliarov et al. 2006)                       & Cancer Res. 2006 Oct 1;66(19):9428-36.               & 2011-11-01 & NA & NA\\\\\n",
       "\t https://ucscpublic.xenahubs.net & publicHub & Glioma (Kotliarov 2006)              & kotliarov2006\\_public/kotliarov2006\\_public\\_clinicalMatrix & 194 & phenotype       & Phenotypes                     & clinicalMatrix &        &           & cancer                   & NA                                                & NA                                                       & NA                                                   & 2011-11-11 & NA & NA\\\\\n",
       "\t https://ucscpublic.xenahubs.net & publicHub & Lung Cancer CGH (Weir 2007)          & weir2007\\_public/weir2007\\_genomicMatrix                   & 383 & copy number     & CGH                            & genomicMatrix  & Lung   & tumor     & cancer                   & probeMap/probeAffy500K                            & Lung CGH (Weir et al. 2007)                              & Nature. 2007 Dec 6;450(7171):893-8. Epub 2007 Nov 4. & 2011-11-01 & NA & NA\\\\\n",
       "\t https://ucscpublic.xenahubs.net & publicHub & Lung Cancer CGH (Weir 2007)          & weir2007\\_public/weir2007\\_public\\_clinicalMatrix           & 383 & phenotype       & Phenotypes                     & clinicalMatrix &        &           & cancer                   & NA                                                & NA                                                       & NA                                                   & 2011-11-11 & NA & NA\\\\\n",
       "\\end{tabular}\n"
      ],
      "text/markdown": [
       "\n",
       "A tibble: 6 × 17\n",
       "\n",
       "| XenaHosts &lt;chr&gt; | XenaHostNames &lt;chr&gt; | XenaCohorts &lt;chr&gt; | XenaDatasets &lt;chr&gt; | SampleCount &lt;int&gt; | DataSubtype &lt;chr&gt; | Label &lt;chr&gt; | Type &lt;chr&gt; | AnatomicalOrigin &lt;chr&gt; | SampleType &lt;chr&gt; | Tags &lt;chr&gt; | ProbeMap &lt;chr&gt; | LongTitle &lt;chr&gt; | Citation &lt;chr&gt; | Version &lt;chr&gt; | Unit &lt;chr&gt; | Platform &lt;chr&gt; |\n",
       "|---|---|---|---|---|---|---|---|---|---|---|---|---|---|---|---|---|\n",
       "| https://ucscpublic.xenahubs.net | publicHub | Breast Cancer Cell Lines (Neve 2006) | ucsfNeve_public/ucsfNeveExp_genomicMatrix                |  51 | gene expression | Neve Cell Line gene expression | genomicMatrix  | Breast | cell line | cell lines,breast cancer | probeMap/affyU133_ucscGenomeBrowser_hg18.probeMap | Cell Line Gene Expression (Neve et al. Cancer Cell 2006) | Cancer Cell. 2006 Dec;10(6):515-27.                  | 2011-11-01 | NA | NA |\n",
       "| https://ucscpublic.xenahubs.net | publicHub | Breast Cancer Cell Lines (Neve 2006) | ucsfNeve_public/ucsfNeve_public_clinicalMatrix           |  57 | phenotype       | Phenotypes                     | clinicalMatrix | <!----> | <!----> | cancer                   | NA                                                | NA                                                       | NA                                                   | 2011-11-11 | NA | NA |\n",
       "| https://ucscpublic.xenahubs.net | publicHub | Glioma (Kotliarov 2006)              | kotliarov2006_public/kotliarov2006_genomicMatrix         | 194 | copy number     | Kotliarov Glioma CGH           | genomicMatrix  | Brain  | tumor     | cancer,neural            | probeMap/probesAffy100K                           | Glioma CGH (Kotliarov et al. 2006)                       | Cancer Res. 2006 Oct 1;66(19):9428-36.               | 2011-11-01 | NA | NA |\n",
       "| https://ucscpublic.xenahubs.net | publicHub | Glioma (Kotliarov 2006)              | kotliarov2006_public/kotliarov2006_public_clinicalMatrix | 194 | phenotype       | Phenotypes                     | clinicalMatrix | <!----> | <!----> | cancer                   | NA                                                | NA                                                       | NA                                                   | 2011-11-11 | NA | NA |\n",
       "| https://ucscpublic.xenahubs.net | publicHub | Lung Cancer CGH (Weir 2007)          | weir2007_public/weir2007_genomicMatrix                   | 383 | copy number     | CGH                            | genomicMatrix  | Lung   | tumor     | cancer                   | probeMap/probeAffy500K                            | Lung CGH (Weir et al. 2007)                              | Nature. 2007 Dec 6;450(7171):893-8. Epub 2007 Nov 4. | 2011-11-01 | NA | NA |\n",
       "| https://ucscpublic.xenahubs.net | publicHub | Lung Cancer CGH (Weir 2007)          | weir2007_public/weir2007_public_clinicalMatrix           | 383 | phenotype       | Phenotypes                     | clinicalMatrix | <!----> | <!----> | cancer                   | NA                                                | NA                                                       | NA                                                   | 2011-11-11 | NA | NA |\n",
       "\n"
      ],
      "text/plain": [
       "  XenaHosts                       XenaHostNames\n",
       "1 https://ucscpublic.xenahubs.net publicHub    \n",
       "2 https://ucscpublic.xenahubs.net publicHub    \n",
       "3 https://ucscpublic.xenahubs.net publicHub    \n",
       "4 https://ucscpublic.xenahubs.net publicHub    \n",
       "5 https://ucscpublic.xenahubs.net publicHub    \n",
       "6 https://ucscpublic.xenahubs.net publicHub    \n",
       "  XenaCohorts                         \n",
       "1 Breast Cancer Cell Lines (Neve 2006)\n",
       "2 Breast Cancer Cell Lines (Neve 2006)\n",
       "3 Glioma (Kotliarov 2006)             \n",
       "4 Glioma (Kotliarov 2006)             \n",
       "5 Lung Cancer CGH (Weir 2007)         \n",
       "6 Lung Cancer CGH (Weir 2007)         \n",
       "  XenaDatasets                                             SampleCount\n",
       "1 ucsfNeve_public/ucsfNeveExp_genomicMatrix                 51        \n",
       "2 ucsfNeve_public/ucsfNeve_public_clinicalMatrix            57        \n",
       "3 kotliarov2006_public/kotliarov2006_genomicMatrix         194        \n",
       "4 kotliarov2006_public/kotliarov2006_public_clinicalMatrix 194        \n",
       "5 weir2007_public/weir2007_genomicMatrix                   383        \n",
       "6 weir2007_public/weir2007_public_clinicalMatrix           383        \n",
       "  DataSubtype     Label                          Type          \n",
       "1 gene expression Neve Cell Line gene expression genomicMatrix \n",
       "2 phenotype       Phenotypes                     clinicalMatrix\n",
       "3 copy number     Kotliarov Glioma CGH           genomicMatrix \n",
       "4 phenotype       Phenotypes                     clinicalMatrix\n",
       "5 copy number     CGH                            genomicMatrix \n",
       "6 phenotype       Phenotypes                     clinicalMatrix\n",
       "  AnatomicalOrigin SampleType Tags                    \n",
       "1 Breast           cell line  cell lines,breast cancer\n",
       "2                             cancer                  \n",
       "3 Brain            tumor      cancer,neural           \n",
       "4                             cancer                  \n",
       "5 Lung             tumor      cancer                  \n",
       "6                             cancer                  \n",
       "  ProbeMap                                         \n",
       "1 probeMap/affyU133_ucscGenomeBrowser_hg18.probeMap\n",
       "2 NA                                               \n",
       "3 probeMap/probesAffy100K                          \n",
       "4 NA                                               \n",
       "5 probeMap/probeAffy500K                           \n",
       "6 NA                                               \n",
       "  LongTitle                                               \n",
       "1 Cell Line Gene Expression (Neve et al. Cancer Cell 2006)\n",
       "2 NA                                                      \n",
       "3 Glioma CGH (Kotliarov et al. 2006)                      \n",
       "4 NA                                                      \n",
       "5 Lung CGH (Weir et al. 2007)                             \n",
       "6 NA                                                      \n",
       "  Citation                                             Version    Unit Platform\n",
       "1 Cancer Cell. 2006 Dec;10(6):515-27.                  2011-11-01 NA   NA      \n",
       "2 NA                                                   2011-11-11 NA   NA      \n",
       "3 Cancer Res. 2006 Oct 1;66(19):9428-36.               2011-11-01 NA   NA      \n",
       "4 NA                                                   2011-11-11 NA   NA      \n",
       "5 Nature. 2007 Dec 6;450(7171):893-8. Epub 2007 Nov 4. 2011-11-01 NA   NA      \n",
       "6 NA                                                   2011-11-11 NA   NA      "
      ]
     },
     "metadata": {},
     "output_type": "display_data"
    }
   ],
   "source": [
    "library(tidyverse)\n",
    "library(UCSCXenaTools)\n",
    "data(XenaData)\n",
    "head(XenaData)"
   ]
  },
  {
   "cell_type": "markdown",
   "id": "47e1906d-26d4-493f-a54d-d32d9f518a34",
   "metadata": {},
   "source": [
    "# 2. Differential expression and gene set enrichment analysis"
   ]
  },
  {
   "cell_type": "markdown",
   "id": "6681d4f1-5625-4889-8d18-b855e2555773",
   "metadata": {},
   "source": [
    "## 2.1. DEG"
   ]
  },
  {
   "cell_type": "markdown",
   "id": "f94f2c0c-5d19-4d9e-b8bb-df17caab0977",
   "metadata": {},
   "source": [
    "### 2.1.1. DEG by limma-voom"
   ]
  },
  {
   "cell_type": "markdown",
   "id": "6a40b811-8c3a-491f-a099-6a1ded776780",
   "metadata": {},
   "source": [
    "## 2.2. ORA by clusterProfiler"
   ]
  },
  {
   "cell_type": "markdown",
   "id": "42f1bd23-abd7-4535-a424-5e589e090ea6",
   "metadata": {},
   "source": [
    "## 2.3. GSEA by clusterProfiler"
   ]
  },
  {
   "cell_type": "code",
   "execution_count": null,
   "id": "9ed21ba7-8176-411c-ae31-540d37223e90",
   "metadata": {},
   "outputs": [],
   "source": []
  }
 ],
 "metadata": {
  "kernelspec": {
   "display_name": "R",
   "language": "R",
   "name": "ir"
  },
  "language_info": {
   "codemirror_mode": "r",
   "file_extension": ".r",
   "mimetype": "text/x-r-source",
   "name": "R",
   "pygments_lexer": "r",
   "version": "4.0.0"
  },
  "toc-autonumbering": false
 },
 "nbformat": 4,
 "nbformat_minor": 5
}
