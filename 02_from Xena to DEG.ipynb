{
 "cells": [
  {
   "cell_type": "markdown",
   "id": "3bb1ba10-c996-4f62-ae24-8718ee9be17e",
   "metadata": {},
   "source": [
    "# Outline"
   ]
  },
  {
   "cell_type": "markdown",
   "id": "dd71bf54-4fe6-4201-961c-fe490f422c05",
   "metadata": {},
   "source": [
    "# 1. Cancer omic resources"
   ]
  },
  {
   "cell_type": "markdown",
   "id": "8424dc00-c7cb-48b4-9165-d00117e430b4",
   "metadata": {},
   "source": [
    "## 1.1. Xena"
   ]
  },
  {
   "cell_type": "markdown",
   "id": "2398fe1f-8f48-4ae3-a627-176a86a1fafd",
   "metadata": {},
   "source": [
    "### 1.1.1. Xena overview"
   ]
  },
  {
   "cell_type": "markdown",
   "id": "e139a744-dd83-4455-be05-9504d2f8d1a3",
   "metadata": {
    "tags": []
   },
   "source": [
    "### 1.1.2. access Xena via R"
   ]
  },
  {
   "cell_type": "code",
   "execution_count": null,
   "id": "2a9c98cf-95ec-493c-b0c4-4bd0527ab5de",
   "metadata": {},
   "outputs": [],
   "source": [
    "library(tidyverse)\n",
    "library(UCSCXenaTools)\n",
    "data(XenaData)\n",
    "head(XenaData)"
   ]
  },
  {
   "cell_type": "markdown",
   "id": "47e1906d-26d4-493f-a54d-d32d9f518a34",
   "metadata": {},
   "source": [
    "# 2. Differential expression and gene set enrichment analysis"
   ]
  },
  {
   "cell_type": "markdown",
   "id": "6681d4f1-5625-4889-8d18-b855e2555773",
   "metadata": {},
   "source": [
    "## 2.1. DEG"
   ]
  },
  {
   "cell_type": "markdown",
   "id": "f94f2c0c-5d19-4d9e-b8bb-df17caab0977",
   "metadata": {},
   "source": [
    "### 2.1.1. DEG by limma-voom"
   ]
  },
  {
   "cell_type": "markdown",
   "id": "6a40b811-8c3a-491f-a099-6a1ded776780",
   "metadata": {},
   "source": [
    "## 2.2. ORA by clusterProfiler"
   ]
  },
  {
   "cell_type": "markdown",
   "id": "42f1bd23-abd7-4535-a424-5e589e090ea6",
   "metadata": {},
   "source": [
    "## 2.3. GSEA by clusterProfiler"
   ]
  },
  {
   "cell_type": "code",
   "execution_count": null,
   "id": "9ed21ba7-8176-411c-ae31-540d37223e90",
   "metadata": {},
   "outputs": [],
   "source": []
  }
 ],
 "metadata": {
  "kernelspec": {
   "display_name": "R",
   "language": "R",
   "name": "ir"
  },
  "language_info": {
   "codemirror_mode": "r",
   "file_extension": ".r",
   "mimetype": "text/x-r-source",
   "name": "R",
   "pygments_lexer": "r",
   "version": "4.0.0"
  },
  "toc-autonumbering": false
 },
 "nbformat": 4,
 "nbformat_minor": 5
}
